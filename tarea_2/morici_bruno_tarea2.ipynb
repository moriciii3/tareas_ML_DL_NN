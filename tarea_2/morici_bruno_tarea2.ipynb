{
 "cells": [
  {
   "cell_type": "markdown",
   "id": "f3915c95",
   "metadata": {},
   "source": [
    "# Tarea 2 - Introducción a las Redes Neuronales y Deep Learning\n",
    "\n",
    "**Nombre:** Bruno Morici\n",
    "\n",
    "**ROL USM:** 202373555-8\n",
    "\n",
    "**Curso:** INF395, Introducción a las Redes Neuronales y Deep Learning\n",
    "\n",
    "**Profesor:** Alejandro Veloz\n",
    "\n",
    "**Fecha:** 21/10/2025"
   ]
  },
  {
   "cell_type": "markdown",
   "id": "8b3e8519",
   "metadata": {},
   "source": [
    "# Parte I: Desbalance de clases\n",
    "\n",
    "### Pasos:\n",
    "- Se hará uso de un dataset de clasificación de imágenes\n",
    "- Artificialmente se limitarán las muestras de una clase para generar un desbalance artificial\n",
    "- Se creará y entrenará un modelo FANN con las muestras totales\n",
    "- Luego se harán predicciones midiendo el Acuraccy y el F1-Score (sobre todo en la clase desbalanceada, donde se espera sea cercano a cero)\n",
    "- Luego se aplicará el método de Data Augmentation, para tomar las pocas muestras de la clase desbalanceada y balancearla a la par de las otras\n",
    "- Finalmente se reentrenará el modelo, realizando nuevas predicciones y mediciones, para ver el efecto del método de rebalanceamiento."
   ]
  },
  {
   "cell_type": "code",
   "execution_count": 46,
   "id": "0b06b9be",
   "metadata": {},
   "outputs": [],
   "source": [
    "import tensorflow as tf\n",
    "from tensorflow.keras.preprocessing.image import ImageDataGenerator\n",
    "import numpy as np\n",
    "import matplotlib.pyplot as plt\n",
    "from sklearn.metrics import accuracy_score, f1_score, classification_report\n",
    "from collections import Counter"
   ]
  },
  {
   "cell_type": "code",
   "execution_count": 47,
   "id": "4b182cae",
   "metadata": {},
   "outputs": [],
   "source": [
    "# Carga del dataset, creamos conjuntos de entrenamiento y prueba\n",
    "fashion_mnist = tf.keras.datasets.fashion_mnist\n",
    "(train_images, train_labels), (test_images, test_labels) = fashion_mnist.load_data()\n",
    "\n",
    "# Normalización de los datos\n",
    "train_images = train_images / 255.0\n",
    "test_images = test_images / 255.0\n",
    "\n",
    "# Definimos los nombres de las clases\n",
    "class_names = ['T-shirt/top', 'Trouser', 'Pullover', 'Dress', 'Coat',\n",
    "               'Sandal', 'Shirt', 'Sneaker', 'Bag', 'Ankle boot']\n",
    "\n"
   ]
  },
  {
   "cell_type": "code",
   "execution_count": 48,
   "id": "2d90da66",
   "metadata": {},
   "outputs": [
    {
     "name": "stdout",
     "output_type": "stream",
     "text": [
      "Cantidad de imágenes desbalanceadas por clase:\n",
      "T-shirt/top: 6000\n",
      "Trouser: 6000\n",
      "Pullover: 6000\n",
      "Dress: 6000\n",
      "Coat: 100\n",
      "Sandal: 6000\n",
      "Shirt: 6000\n",
      "Sneaker: 6000\n",
      "Bag: 6000\n",
      "Ankle boot: 6000\n"
     ]
    }
   ],
   "source": [
    "minority_class = 4  # Desbalanceamos la clase \"Coat\"\n",
    "\n",
    "minority_idx = np.where(train_labels == minority_class)[0]\n",
    "majority_idx = np.where(train_labels != minority_class)[0]\n",
    "\n",
    "np.random.seed(42)\n",
    "minority_idx_reduced = np.random.choice(minority_idx, 100, replace=False)\n",
    "\n",
    "new_train_idx = np.concatenate([minority_idx_reduced, majority_idx])\n",
    "train_images_ds = train_images[new_train_idx] # Nuevo dataset de entrenamiento desbalanceado\n",
    "train_labels_ds = train_labels[new_train_idx] # Nuevas etiquetas de entrenamiento desbalanceadas\n",
    "\n",
    "print(\"Cantidad de imágenes desbalanceadas por clase:\")\n",
    "for i in range(10):\n",
    "    print(f\"{class_names[i]}: {(train_labels_ds==i).sum()}\")\n",
    "\n"
   ]
  },
  {
   "cell_type": "code",
   "execution_count": 49,
   "id": "6b5fe6e4",
   "metadata": {},
   "outputs": [],
   "source": [
    "# Creamos el modelo de arquitectura estándar con capas de neuronas mediante Keras\n",
    "def create_model():\n",
    "    model = tf.keras.Sequential([\n",
    "        tf.keras.layers.Flatten(input_shape=(28, 28)),\n",
    "        tf.keras.layers.Dense(128, activation='relu'),\n",
    "        tf.keras.layers.Dense(10)\n",
    "    ])\n",
    "    model.compile(optimizer='adam',\n",
    "                  loss=tf.keras.losses.SparseCategoricalCrossentropy(from_logits=True),\n",
    "                  metrics=['accuracy'])\n",
    "    return model"
   ]
  },
  {
   "cell_type": "markdown",
   "id": "36acb11c",
   "metadata": {},
   "source": [
    "### 1.1 - Modelo desbalanceado\n",
    "Modelo con solo 100 muestras de la clase \"Coat\""
   ]
  },
  {
   "cell_type": "code",
   "execution_count": 50,
   "id": "f5113529",
   "metadata": {},
   "outputs": [
    {
     "name": "stderr",
     "output_type": "stream",
     "text": [
      "c:\\Users\\Bruno\\Desktop\\INF395 - IRN\\tareas\\tarea_2\\tf_venv\\Lib\\site-packages\\keras\\src\\layers\\reshaping\\flatten.py:37: UserWarning: Do not pass an `input_shape`/`input_dim` argument to a layer. When using Sequential models, prefer using an `Input(shape)` object as the first layer in the model instead.\n",
      "  super().__init__(**kwargs)\n"
     ]
    },
    {
     "name": "stdout",
     "output_type": "stream",
     "text": [
      "Epoch 1/10\n",
      "1691/1691 - 5s - 3ms/step - accuracy: 0.8585 - loss: 0.4212\n",
      "Epoch 2/10\n",
      "1691/1691 - 4s - 2ms/step - accuracy: 0.8920 - loss: 0.3049\n",
      "Epoch 3/10\n",
      "1691/1691 - 4s - 2ms/step - accuracy: 0.9017 - loss: 0.2722\n",
      "Epoch 4/10\n",
      "1691/1691 - 5s - 3ms/step - accuracy: 0.9090 - loss: 0.2488\n",
      "Epoch 5/10\n",
      "1691/1691 - 4s - 2ms/step - accuracy: 0.9144 - loss: 0.2329\n",
      "Epoch 6/10\n",
      "1691/1691 - 4s - 3ms/step - accuracy: 0.9186 - loss: 0.2188\n",
      "Epoch 7/10\n",
      "1691/1691 - 5s - 3ms/step - accuracy: 0.9222 - loss: 0.2073\n",
      "Epoch 8/10\n",
      "1691/1691 - 4s - 3ms/step - accuracy: 0.9257 - loss: 0.1992\n",
      "Epoch 9/10\n",
      "1691/1691 - 5s - 3ms/step - accuracy: 0.9300 - loss: 0.1886\n",
      "Epoch 10/10\n",
      "1691/1691 - 4s - 2ms/step - accuracy: 0.9316 - loss: 0.1814\n",
      "\u001b[1m313/313\u001b[0m \u001b[32m━━━━━━━━━━━━━━━━━━━━\u001b[0m\u001b[37m\u001b[0m \u001b[1m0s\u001b[0m 1ms/step\n",
      "Desbalanceado - Accuracy Coat: 0.0950, F1 Coat: 0.0347\n"
     ]
    }
   ],
   "source": [
    "# Fiteamos el modelo con el dataset desbalanceado\n",
    "model_ds = create_model()\n",
    "model_ds.fit(train_images_ds, train_labels_ds, epochs=10, verbose=2)\n",
    "\n",
    "# Evaluamos el modelo desbalanceado\n",
    "prob_model_ds = tf.keras.Sequential([model_ds, tf.keras.layers.Softmax()])\n",
    "predictions_ds = np.argmax(prob_model_ds.predict(test_images), axis=1)\n",
    "\n",
    "# Métricas para la clase desbalanceada \"Coat\"\n",
    "mask = test_labels == minority_class\n",
    "acc_ds = accuracy_score(test_labels[mask], predictions_ds[mask])\n",
    "f1_ds = f1_score(test_labels[mask], predictions_ds[mask], average='macro')\n",
    "\n",
    "# Resultados\n",
    "print(f\"Desbalanceado - Accuracy Coat: {acc_ds:.4f}, F1 Coat: {f1_ds:.4f}\")\n"
   ]
  },
  {
   "cell_type": "markdown",
   "id": "f9a29976",
   "metadata": {},
   "source": [
    "Ejemplo de predicción para el Modelo Desbalanceado"
   ]
  },
  {
   "cell_type": "code",
   "execution_count": 51,
   "id": "fde7b265",
   "metadata": {},
   "outputs": [
    {
     "data": {
      "image/png": "[encoded data removed]",
      "text/plain": [
       "<Figure size 640x480 with 1 Axes>"
      ]
     },
     "metadata": {},
     "output_type": "display_data"
    }
   ],
   "source": [
    "idx = np.where(test_labels==minority_class)[0][0]\n",
    "plt.imshow(test_images[idx], cmap='gray')\n",
    "plt.title(f\"Etiqueta real: {class_names[test_labels[idx]]}\\nPredicción: {class_names[predictions_ds[idx]]}\")\n",
    "plt.show()"
   ]
  },
  {
   "cell_type": "markdown",
   "id": "04839ce8",
   "metadata": {},
   "source": [
    "### 1.2 - Balanceo Artificial por remuestreo\n",
    "- Modelo generado mediante un balanceo artificial de la clase \"Coat\"\n",
    "- Se generaron rotaciones y modificaciones de altura y largo para modificar las muestras existentes y generar más.\n",
    "- Se utiliza la técnica de remuestreo, mas puntualmente la de oversampling."
   ]
  },
  {
   "cell_type": "markdown",
   "id": "547de522",
   "metadata": {},
   "source": [
    "Balanceo por técnica de remuestreo oversampling"
   ]
  },
  {
   "cell_type": "code",
   "execution_count": 52,
   "id": "c3d94036",
   "metadata": {},
   "outputs": [
    {
     "name": "stdout",
     "output_type": "stream",
     "text": [
      "Cantidad de imágenes después de balanceo artificial:\n",
      "T-shirt/top: 6000\n",
      "Trouser: 6000\n",
      "Pullover: 6000\n",
      "Dress: 6000\n",
      "Coat: 6000\n",
      "Sandal: 6000\n",
      "Shirt: 6000\n",
      "Sneaker: 6000\n",
      "Bag: 6000\n",
      "Ankle boot: 6000\n"
     ]
    }
   ],
   "source": [
    "# Aumentación de datos para balancear la clase minoritaria\n",
    "datagen = ImageDataGenerator(rotation_range=20,\n",
    "                             width_shift_range=0.1,\n",
    "                             height_shift_range=0.1,\n",
    "                             horizontal_flip=True)\n",
    "\n",
    "# Extraemos las imágenes y etiquetas de la clase minoritaria\n",
    "minority_imgs = train_images_ds[train_labels_ds==minority_class]\n",
    "minority_lbls = train_labels_ds[train_labels_ds==minority_class]\n",
    "\n",
    "# Queremos igualar la cantidad de la clase minoritaria con la mayoría\n",
    "majority_count = max([(train_labels_ds==i).sum() for i in range(10) if i!=minority_class])\n",
    "n_needed = majority_count - len(minority_imgs)\n",
    "\n",
    "aug_images, aug_labels = [], []\n",
    "\n",
    "# Generamos imágenes aumentadas hasta alcanzar el balance\n",
    "for x, y in zip(minority_imgs, minority_lbls):\n",
    "    x = x.reshape((1,28,28,1))\n",
    "    for batch in datagen.flow(x, batch_size=1):\n",
    "        # Guardamos la imagen aumentada y su etiqueta\n",
    "        aug_images.append(batch[0].reshape(28,28))\n",
    "        aug_labels.append(y)\n",
    "        if len(aug_images) >= n_needed:\n",
    "            break\n",
    "    if len(aug_images) >= n_needed:\n",
    "        break\n",
    "\n",
    "# Combinamos las imágenes aumentadas con el dataset desbalanceado\n",
    "train_images_aug = np.concatenate([train_images_ds, np.array(aug_images)])\n",
    "train_labels_aug = np.concatenate([train_labels_ds, np.array(aug_labels)])\n",
    "\n",
    "print(\"Cantidad de imágenes después de balanceo artificial:\")\n",
    "for i in range(10):\n",
    "    print(f\"{class_names[i]}: {(train_labels_aug==i).sum()}\")\n"
   ]
  },
  {
   "cell_type": "markdown",
   "id": "2f10ab15",
   "metadata": {},
   "source": [
    "Creamos el modelo balanceado artificialmente"
   ]
  },
  {
   "cell_type": "code",
   "execution_count": 53,
   "id": "5df98aad",
   "metadata": {},
   "outputs": [
    {
     "name": "stderr",
     "output_type": "stream",
     "text": [
      "c:\\Users\\Bruno\\Desktop\\INF395 - IRN\\tareas\\tarea_2\\tf_venv\\Lib\\site-packages\\keras\\src\\layers\\reshaping\\flatten.py:37: UserWarning: Do not pass an `input_shape`/`input_dim` argument to a layer. When using Sequential models, prefer using an `Input(shape)` object as the first layer in the model instead.\n",
      "  super().__init__(**kwargs)\n"
     ]
    },
    {
     "name": "stdout",
     "output_type": "stream",
     "text": [
      "Epoch 1/10\n",
      "1875/1875 - 5s - 3ms/step - accuracy: 0.8694 - loss: 0.3882\n",
      "Epoch 2/10\n",
      "1875/1875 - 5s - 3ms/step - accuracy: 0.9022 - loss: 0.2783\n",
      "Epoch 3/10\n",
      "1875/1875 - 4s - 2ms/step - accuracy: 0.9117 - loss: 0.2475\n",
      "Epoch 4/10\n",
      "1875/1875 - 4s - 2ms/step - accuracy: 0.9186 - loss: 0.2241\n",
      "Epoch 5/10\n",
      "1875/1875 - 4s - 2ms/step - accuracy: 0.9232 - loss: 0.2102\n",
      "Epoch 6/10\n",
      "1875/1875 - 4s - 2ms/step - accuracy: 0.9273 - loss: 0.1994\n",
      "Epoch 7/10\n",
      "1875/1875 - 4s - 2ms/step - accuracy: 0.9318 - loss: 0.1864\n",
      "Epoch 8/10\n",
      "1875/1875 - 4s - 2ms/step - accuracy: 0.9339 - loss: 0.1801\n",
      "Epoch 9/10\n",
      "1875/1875 - 4s - 2ms/step - accuracy: 0.9364 - loss: 0.1714\n",
      "Epoch 10/10\n",
      "1875/1875 - 4s - 2ms/step - accuracy: 0.9387 - loss: 0.1607\n",
      "\u001b[1m313/313\u001b[0m \u001b[32m━━━━━━━━━━━━━━━━━━━━\u001b[0m\u001b[37m\u001b[0m \u001b[1m0s\u001b[0m 1ms/step  \n",
      "Balanceado artificial - Accuracy Coat: 0.0550, F1 Coat: 0.0174\n"
     ]
    }
   ],
   "source": [
    "# Fiteamos el modelo con el dataset balanceado artificialmente\n",
    "model_aug = create_model()\n",
    "model_aug.fit(train_images_aug, train_labels_aug, epochs=10, verbose=2)\n",
    "\n",
    "# Evaluamos el modelo balanceado artificialmente\n",
    "prob_model_aug = tf.keras.Sequential([model_aug, tf.keras.layers.Softmax()])\n",
    "predictions_aug = np.argmax(prob_model_aug.predict(test_images), axis=1)\n",
    "\n",
    "# Métricas para la clase desbalanceada \"Coat\"\n",
    "acc_aug = accuracy_score(test_labels[mask], predictions_aug[mask])\n",
    "f1_aug = f1_score(test_labels[mask], predictions_aug[mask], average='macro')\n",
    "\n",
    "# Resultados\n",
    "print(f\"Balanceado artificial - Accuracy Coat: {acc_aug:.4f}, F1 Coat: {f1_aug:.4f}\")\n"
   ]
  },
  {
   "cell_type": "markdown",
   "id": "50c167cd",
   "metadata": {},
   "source": [
    "Ejemplo de predicción con el Modelo Artificialmente Balanceado"
   ]
  },
  {
   "cell_type": "code",
   "execution_count": 54,
   "id": "d27c1323",
   "metadata": {},
   "outputs": [
    {
     "data": {
      "image/png": "[encoded data removed]",
      "text/plain": [
       "<Figure size 640x480 with 1 Axes>"
      ]
     },
     "metadata": {},
     "output_type": "display_data"
    }
   ],
   "source": [
    "idx = np.where(test_labels==minority_class)[0][1]\n",
    "plt.imshow(test_images[idx], cmap='gray')\n",
    "plt.title(f\"Etiqueta real: {class_names[test_labels[idx]]}\\nPredicción: {class_names[predictions_aug[idx]]}\")\n",
    "plt.show()"
   ]
  },
  {
   "cell_type": "markdown",
   "id": "61f42134",
   "metadata": {},
   "source": [
    "### 1.3 - Balanceo mediante modificación de la función objetivo\n",
    "- Modelo generado mediante un balanceo artificial de la clase \"Coat\"\n",
    "- Se penaliza más el error para la clase que posee menos muestras, en este caso \"Coat\".\n",
    "- De esta forma el modelo compensa ese desbalance.\n",
    "- No cambia el dataset, sino cómo el modelo aprende."
   ]
  },
  {
   "cell_type": "code",
   "execution_count": 55,
   "id": "ca40bd4d",
   "metadata": {},
   "outputs": [
    {
     "name": "stdout",
     "output_type": "stream",
     "text": [
      "Pesos asignados por clase:\n",
      "T-shirt/top: 0.902\n",
      "Trouser: 0.902\n",
      "Pullover: 0.902\n",
      "Dress: 0.902\n",
      "Coat: 54.100\n",
      "Sandal: 0.902\n",
      "Shirt: 0.902\n",
      "Sneaker: 0.902\n",
      "Bag: 0.902\n",
      "Ankle boot: 0.902\n"
     ]
    }
   ],
   "source": [
    "class_counts = Counter(train_labels_ds)\n",
    "total_samples = len(train_labels_ds)\n",
    "n_classes = len(class_counts)\n",
    "\n",
    "# Si hay menos muestras de una clase, mayor será su peso\n",
    "class_weight = {i: total_samples / (n_classes * class_counts[i]) for i in class_counts}\n",
    "\n",
    "# Mostramos los pesos asignados por clase\n",
    "print(\"Pesos asignados por clase:\")\n",
    "for i in range(10):\n",
    "    print(f\"{class_names[i]}: {class_weight[i]:.3f}\")"
   ]
  },
  {
   "cell_type": "code",
   "execution_count": 56,
   "id": "3c9fbbd9",
   "metadata": {},
   "outputs": [
    {
     "name": "stderr",
     "output_type": "stream",
     "text": [
      "c:\\Users\\Bruno\\Desktop\\INF395 - IRN\\tareas\\tarea_2\\tf_venv\\Lib\\site-packages\\keras\\src\\layers\\reshaping\\flatten.py:37: UserWarning: Do not pass an `input_shape`/`input_dim` argument to a layer. When using Sequential models, prefer using an `Input(shape)` object as the first layer in the model instead.\n",
      "  super().__init__(**kwargs)\n"
     ]
    },
    {
     "name": "stdout",
     "output_type": "stream",
     "text": [
      "\u001b[1m313/313\u001b[0m \u001b[32m━━━━━━━━━━━━━━━━━━━━\u001b[0m\u001b[37m\u001b[0m \u001b[1m0s\u001b[0m 1ms/step\n",
      "\n",
      "--- Métricas para clase 'Coat' (con class_weight) ---\n",
      "Accuracy (Coat): 0.6920\n",
      "F1-score (Coat): 0.1636\n"
     ]
    }
   ],
   "source": [
    "# Fiteamos el modelo con class_weight\n",
    "model_weighted = create_model()\n",
    "history_weighted = model_weighted.fit(train_images_ds, train_labels_ds,\n",
    "                                      epochs=10, batch_size=64, verbose=0,\n",
    "                                      validation_split=0.2,\n",
    "                                      class_weight=class_weight)\n",
    "\n",
    "# Evaluamos el modelo con class_weight\n",
    "y_pred_w = np.argmax(model_weighted.predict(test_images), axis=1)\n",
    "report_w = classification_report(test_labels, y_pred_w, output_dict=True)\n",
    "\n",
    "mask = test_labels == minority_class\n",
    "acc_wgt = accuracy_score(test_labels[mask], y_pred_w[mask])\n",
    "f1_wgt = f1_score(test_labels[mask], y_pred_w[mask], average='macro')\n",
    "\n",
    "# Resultados\n",
    "print(\"\\n--- Métricas para clase 'Coat' (con class_weight) ---\")\n",
    "print(f\"Accuracy (Coat): {acc_wgt:.4f}\")\n",
    "print(f\"F1-score (Coat): {f1_wgt:.4f}\")"
   ]
  },
  {
   "cell_type": "code",
   "execution_count": null,
   "id": "ca123841",
   "metadata": {},
   "outputs": [
    {
     "name": "stdout",
     "output_type": "stream",
     "text": [
      "\u001b[1m1/1\u001b[0m \u001b[32m━━━━━━━━━━━━━━━━━━━━\u001b[0m\u001b[37m\u001b[0m \u001b[1m0s\u001b[0m 76ms/step\n"
     ]
    },
    {
     "data": {
      "image/png": "[encoded data removed]",
      "text/plain": [
       "<Figure size 640x480 with 1 Axes>"
      ]
     },
     "metadata": {},
     "output_type": "display_data"
    }
   ],
   "source": [
    "idx = np.where(test_labels == minority_class)[0][2]\n",
    "\n",
    "plt.imshow(test_images[idx], cmap='gray')\n",
    "pred_label = np.argmax(model_weighted.predict(np.expand_dims(test_images[idx], 0)))\n",
    "plt.title(f\"Etiqueta real: {class_names[test_labels[idx]]}\\nPredicción: {class_names[pred_label]}\")\n",
    "plt.show()"
   ]
  },
  {
   "cell_type": "code",
   "execution_count": 63,
   "id": "fa35db1f",
   "metadata": {},
   "outputs": [
    {
     "name": "stdout",
     "output_type": "stream",
     "text": [
      "\u001b[1m1/1\u001b[0m \u001b[32m━━━━━━━━━━━━━━━━━━━━\u001b[0m\u001b[37m\u001b[0m \u001b[1m0s\u001b[0m 79ms/step\n"
     ]
    },
    {
     "data": {
      "image/png": "[encoded data removed]",
      "text/plain": [
       "<Figure size 640x480 with 1 Axes>"
      ]
     },
     "metadata": {},
     "output_type": "display_data"
    }
   ],
   "source": [
    "idx = np.where(test_labels == minority_class)[0][6]\n",
    "\n",
    "plt.imshow(test_images[idx], cmap='gray')\n",
    "pred_label = np.argmax(model_weighted.predict(np.expand_dims(test_images[idx], 0)))\n",
    "plt.title(f\"Etiqueta real: {class_names[test_labels[idx]]}\\nPredicción: {class_names[pred_label]}\")\n",
    "plt.show()"
   ]
  },
  {
   "cell_type": "markdown",
   "id": "78d9f535",
   "metadata": {},
   "source": [
    "### 1.4 - Modelo balanceado original\n",
    "Dataset completo, sin crear recortes artificiales, éste se encuentra balanceado desde el inicio"
   ]
  },
  {
   "cell_type": "code",
   "execution_count": 58,
   "id": "7c11fcd0",
   "metadata": {},
   "outputs": [
    {
     "name": "stdout",
     "output_type": "stream",
     "text": [
      "Epoch 1/10\n"
     ]
    },
    {
     "name": "stderr",
     "output_type": "stream",
     "text": [
      "c:\\Users\\Bruno\\Desktop\\INF395 - IRN\\tareas\\tarea_2\\tf_venv\\Lib\\site-packages\\keras\\src\\layers\\reshaping\\flatten.py:37: UserWarning: Do not pass an `input_shape`/`input_dim` argument to a layer. When using Sequential models, prefer using an `Input(shape)` object as the first layer in the model instead.\n",
      "  super().__init__(**kwargs)\n"
     ]
    },
    {
     "name": "stdout",
     "output_type": "stream",
     "text": [
      "1875/1875 - 5s - 2ms/step - accuracy: 0.8256 - loss: 0.4986\n",
      "Epoch 2/10\n",
      "1875/1875 - 4s - 2ms/step - accuracy: 0.8626 - loss: 0.3761\n",
      "Epoch 3/10\n",
      "1875/1875 - 4s - 2ms/step - accuracy: 0.8771 - loss: 0.3366\n",
      "Epoch 4/10\n",
      "1875/1875 - 4s - 2ms/step - accuracy: 0.8858 - loss: 0.3116\n",
      "Epoch 5/10\n",
      "1875/1875 - 4s - 2ms/step - accuracy: 0.8922 - loss: 0.2939\n",
      "Epoch 6/10\n",
      "1875/1875 - 4s - 2ms/step - accuracy: 0.8957 - loss: 0.2792\n",
      "Epoch 7/10\n",
      "1875/1875 - 4s - 2ms/step - accuracy: 0.9022 - loss: 0.2660\n",
      "Epoch 8/10\n",
      "1875/1875 - 5s - 3ms/step - accuracy: 0.9035 - loss: 0.2574\n",
      "Epoch 9/10\n",
      "1875/1875 - 5s - 3ms/step - accuracy: 0.9067 - loss: 0.2475\n",
      "Epoch 10/10\n",
      "1875/1875 - 4s - 2ms/step - accuracy: 0.9111 - loss: 0.2385\n",
      "\u001b[1m313/313\u001b[0m \u001b[32m━━━━━━━━━━━━━━━━━━━━\u001b[0m\u001b[37m\u001b[0m \u001b[1m0s\u001b[0m 1ms/step\n",
      "Balanceado original - Accuracy Coat: 0.8030, F1 Coat: 0.1485\n"
     ]
    }
   ],
   "source": [
    "model_bal = create_model()\n",
    "model_bal.fit(train_images, train_labels, epochs=10, verbose=2)\n",
    "\n",
    "prob_model_bal = tf.keras.Sequential([model_bal, tf.keras.layers.Softmax()])\n",
    "predictions_bal = np.argmax(prob_model_bal.predict(test_images), axis=1)\n",
    "\n",
    "acc_bal = accuracy_score(test_labels[mask], predictions_bal[mask])\n",
    "f1_bal = f1_score(test_labels[mask], predictions_bal[mask], average='macro')\n",
    "print(f\"Balanceado original - Accuracy Coat: {acc_bal:.4f}, F1 Coat: {f1_bal:.4f}\")\n",
    "\n"
   ]
  },
  {
   "cell_type": "markdown",
   "id": "44a5d71b",
   "metadata": {},
   "source": [
    "Ejemplo de predicción con el Modelo Balanceado Original"
   ]
  },
  {
   "cell_type": "code",
   "execution_count": 59,
   "id": "954290c1",
   "metadata": {},
   "outputs": [
    {
     "data": {
      "image/png": "[encoded data removed]",
      "text/plain": [
       "<Figure size 640x480 with 1 Axes>"
      ]
     },
     "metadata": {},
     "output_type": "display_data"
    }
   ],
   "source": [
    "idx = np.where(test_labels==minority_class)[0][2]\n",
    "plt.imshow(test_images[idx], cmap='gray')\n",
    "plt.title(f\"Etiqueta real: {class_names[test_labels[idx]]}\\nPredicción: {class_names[predictions_bal[idx]]}\")\n",
    "plt.show()"
   ]
  },
  {
   "cell_type": "markdown",
   "id": "3b331fd6",
   "metadata": {},
   "source": [
    "### 1.5 - Comparación final de los 4 modelos"
   ]
  },
  {
   "cell_type": "code",
   "execution_count": 60,
   "id": "20965bbc",
   "metadata": {},
   "outputs": [
    {
     "data": {
      "image/png": "[encoded data removed]",
      "text/plain": [
       "<Figure size 900x500 with 1 Axes>"
      ]
     },
     "metadata": {},
     "output_type": "display_data"
    }
   ],
   "source": [
    "# Nombres de los modelos\n",
    "models = [\n",
    "    'Desbalanceado',\n",
    "    'Balanceado artificial',\n",
    "    'Balanceado original',\n",
    "    'Balanceado por F.O'\n",
    "]\n",
    "\n",
    "# Métricas obtenidas (rellena con tus valores reales)\n",
    "acc_values = [acc_ds, acc_aug, acc_bal, acc_wgt]\n",
    "f1_values = [f1_ds, f1_aug, f1_bal, f1_wgt]\n",
    "\n",
    "# Configuración de posiciones y ancho de barras\n",
    "x = np.arange(len(models))\n",
    "width = 0.35\n",
    "\n",
    "# Crear figura\n",
    "fig, ax = plt.subplots(figsize=(9,5))\n",
    "rects1 = ax.bar(x - width/2, acc_values, width, label='Accuracy', alpha=0.8)\n",
    "rects2 = ax.bar(x + width/2, f1_values, width, label='F1 Score', alpha=0.8)\n",
    "\n",
    "# Etiquetas y título\n",
    "ax.set_ylabel('Métricas')\n",
    "ax.set_title('Comparación de Accuracy y F1 para la clase \"Coat\"')\n",
    "ax.set_xticks(x)\n",
    "ax.set_xticklabels(models, rotation=15)\n",
    "ax.legend()\n",
    "\n",
    "# Mostrar valores encima de cada barra\n",
    "for rect in rects1 + rects2:\n",
    "    height = rect.get_height()\n",
    "    ax.annotate(f'{height:.2f}',\n",
    "                xy=(rect.get_x() + rect.get_width()/2, height),\n",
    "                xytext=(0,3),\n",
    "                textcoords=\"offset points\",\n",
    "                ha='center', va='bottom',\n",
    "                fontsize=9)\n",
    "\n",
    "plt.tight_layout()\n",
    "plt.show()"
   ]
  },
  {
   "cell_type": "markdown",
   "id": "99be23c4",
   "metadata": {},
   "source": [
    "# Parte II: Sistema de recomendación"
   ]
  },
  {
   "cell_type": "code",
   "execution_count": null,
   "id": "9bab5d63",
   "metadata": {},
   "outputs": [],
   "source": []
  }
 ],
 "metadata": {
  "kernelspec": {
   "display_name": "tf_venv",
   "language": "python",
   "name": "python3"
  },
  "language_info": {
   "codemirror_mode": {
    "name": "ipython",
    "version": 3
   },
   "file_extension": ".py",
   "mimetype": "text/x-python",
   "name": "python",
   "nbconvert_exporter": "python",
   "pygments_lexer": "ipython3",
   "version": "3.11.4"
  }
 },
 "nbformat": 4,
 "nbformat_minor": 5
}
