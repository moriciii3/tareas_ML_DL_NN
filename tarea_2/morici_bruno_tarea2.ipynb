{
 "cells": [
  {
   "cell_type": "markdown",
   "id": "f3915c95",
   "metadata": {},
   "source": [
    "# Tarea 2 - Introducción a las Redes Neuronales y Deep Learning\n",
    "\n",
    "**Nombre:** Bruno Morici\n",
    "\n",
    "**ROL USM:** 202373555-8\n",
    "\n",
    "**Curso:** INF395, Introducción a las Redes Neuronales y Deep Learning\n",
    "\n",
    "**Profesor:** Alejandro Veloz\n",
    "\n",
    "**Fecha:** 21/10/2025"
   ]
  },
  {
   "cell_type": "markdown",
   "id": "8b3e8519",
   "metadata": {},
   "source": [
    "# Parte I: Desbalance de clases\n",
    "\n",
    "### Pasos:\n",
    "- Se hará uso de un dataset de clasificación de imágenes\n",
    "- Artificialmente se limitarán las muestras de una clase para generar un desbalance artificial\n",
    "- Se creará y entrenará un modelo FANN con las muestras totales\n",
    "- Luego se harán predicciones midiendo el Acuraccy y el F1-Score (sobre todo en la clase desbalanceada, donde se espera sea cercano a cero)\n",
    "- Luego se aplicará el método de Data Augmentation, para tomar las pocas muestras de la clase desbalanceada y balancearla a la par de las otras\n",
    "- Finalmente se reentrenará el modelo, realizando nuevas predicciones y mediciones, para ver el efecto del método de rebalanceamiento."
   ]
  },
  {
   "cell_type": "code",
   "execution_count": null,
   "id": "7a115330",
   "metadata": {},
   "outputs": [],
   "source": []
  },
  {
   "cell_type": "markdown",
   "id": "99be23c4",
   "metadata": {},
   "source": [
    "# Parte II: Sistema de recomendación"
   ]
  },
  {
   "cell_type": "code",
   "execution_count": null,
   "id": "9bab5d63",
   "metadata": {},
   "outputs": [],
   "source": []
  }
 ],
 "metadata": {
  "kernelspec": {
   "display_name": "tf_venv",
   "language": "python",
   "name": "python3"
  },
  "language_info": {
   "codemirror_mode": {
    "name": "ipython",
    "version": 3
   },
   "file_extension": ".py",
   "mimetype": "text/x-python",
   "name": "python",
   "nbconvert_exporter": "python",
   "pygments_lexer": "ipython3",
   "version": "3.11.4"
  }
 },
 "nbformat": 4,
 "nbformat_minor": 5
}
