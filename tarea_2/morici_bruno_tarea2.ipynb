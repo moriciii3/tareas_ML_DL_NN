{
 "cells": [
  {
   "cell_type": "markdown",
   "id": "f3915c95",
   "metadata": {},
   "source": [
    "# Tarea 2 - Introducción a las Redes Neuronales y Deep Learning\n",
    "\n",
    "**Nombre:** Bruno Morici\n",
    "\n",
    "**ROL USM:** 202373555-8\n",
    "\n",
    "**Curso:** INF395, Introducción a las Redes Neuronales y Deep Learning\n",
    "\n",
    "**Profesor:** Alejandro Veloz\n",
    "\n",
    "**Fecha:** 21/10/2025"
   ]
  },
  {
   "cell_type": "markdown",
   "id": "8b3e8519",
   "metadata": {},
   "source": [
    "# Parte 1: Desbalance de clases\n",
    "\n",
    "### Pasos:\n",
    "- Se hará uso de un dataset de clasificación de imágenes\n",
    "- Artificialmente se limitarán las muestras de una clase para generar un desbalance artificial\n",
    "- Se creará y entrenará un modelo FANN con las muestras totales\n",
    "- Luego se harán predicciones midiendo el Acuraccy y el F1-Score (sobre todo en la clase desbalanceada, donde se espera sea cercano a cero)\n",
    "- Luego se aplicará el método de Data Augmentation, para tomar las pocas muestras de la clase desbalanceada y balancearla a la par de las otras\n",
    "- Finalmente se reentrenará el modelo, realizando nuevas predicciones y mediciones, para ver el efecto del método de rebalanceamiento."
   ]
  },
  {
   "cell_type": "code",
   "execution_count": 35,
   "id": "0b06b9be",
   "metadata": {},
   "outputs": [],
   "source": [
    "import tensorflow as tf\n",
    "from tensorflow.keras.preprocessing.image import ImageDataGenerator\n",
    "import numpy as np\n",
    "import matplotlib.pyplot as plt\n",
    "from sklearn.metrics import accuracy_score, f1_score, classification_report\n",
    "from collections import Counter"
   ]
  },
  {
   "cell_type": "code",
   "execution_count": 36,
   "id": "4b182cae",
   "metadata": {},
   "outputs": [],
   "source": [
    "# Carga del dataset, creamos conjuntos de entrenamiento y prueba\n",
    "fashion_mnist = tf.keras.datasets.fashion_mnist\n",
    "(train_images, train_labels), (test_images, test_labels) = fashion_mnist.load_data()\n",
    "\n",
    "# Normalización de los datos\n",
    "train_images = train_images / 255.0\n",
    "test_images = test_images / 255.0\n",
    "\n",
    "# Definimos los nombres de las clases\n",
    "class_names = ['T-shirt/top', 'Trouser', 'Pullover', 'Dress', 'Coat',\n",
    "               'Sandal', 'Shirt', 'Sneaker', 'Bag', 'Ankle boot']\n",
    "\n"
   ]
  },
  {
   "cell_type": "code",
   "execution_count": 37,
   "id": "2d90da66",
   "metadata": {},
   "outputs": [
    {
     "name": "stdout",
     "output_type": "stream",
     "text": [
      "Cantidad de imágenes desbalanceadas por clase:\n",
      "T-shirt/top: 6000\n",
      "Trouser: 6000\n",
      "Pullover: 6000\n",
      "Dress: 6000\n",
      "Coat: 100\n",
      "Sandal: 6000\n",
      "Shirt: 6000\n",
      "Sneaker: 6000\n",
      "Bag: 6000\n",
      "Ankle boot: 6000\n"
     ]
    }
   ],
   "source": [
    "minority_class = 4  # Desbalanceamos la clase \"Coat\"\n",
    "\n",
    "minority_idx = np.where(train_labels == minority_class)[0]\n",
    "majority_idx = np.where(train_labels != minority_class)[0]\n",
    "\n",
    "np.random.seed(42)\n",
    "minority_idx_reduced = np.random.choice(minority_idx, 100, replace=False)\n",
    "\n",
    "new_train_idx = np.concatenate([minority_idx_reduced, majority_idx])\n",
    "train_images_ds = train_images[new_train_idx] # Nuevo dataset de entrenamiento desbalanceado\n",
    "train_labels_ds = train_labels[new_train_idx] # Nuevas etiquetas de entrenamiento desbalanceadas\n",
    "\n",
    "print(\"Cantidad de imágenes desbalanceadas por clase:\")\n",
    "for i in range(10):\n",
    "    print(f\"{class_names[i]}: {(train_labels_ds==i).sum()}\")\n",
    "\n"
   ]
  },
  {
   "cell_type": "code",
   "execution_count": 38,
   "id": "6b5fe6e4",
   "metadata": {},
   "outputs": [],
   "source": [
    "# Creamos el modelo de arquitectura estándar con capas de neuronas mediante Keras\n",
    "def create_model():\n",
    "    model = tf.keras.Sequential([\n",
    "        tf.keras.layers.Flatten(input_shape=(28, 28)),\n",
    "        tf.keras.layers.Dense(128, activation='relu'),\n",
    "        tf.keras.layers.Dense(10)\n",
    "    ])\n",
    "    model.compile(optimizer='adam',\n",
    "                  loss=tf.keras.losses.SparseCategoricalCrossentropy(from_logits=True),\n",
    "                  metrics=['accuracy'])\n",
    "    return model"
   ]
  },
  {
   "cell_type": "markdown",
   "id": "36acb11c",
   "metadata": {},
   "source": [
    "### 1.1 - Modelo desbalanceado\n",
    "Modelo con solo 100 muestras de la clase \"Coat\""
   ]
  },
  {
   "cell_type": "code",
   "execution_count": 39,
   "id": "f5113529",
   "metadata": {},
   "outputs": [
    {
     "name": "stderr",
     "output_type": "stream",
     "text": [
      "c:\\Users\\Bruno\\Desktop\\INF395 - IRN\\tareas\\tarea_2\\tf_venv\\Lib\\site-packages\\keras\\src\\layers\\reshaping\\flatten.py:37: UserWarning: Do not pass an `input_shape`/`input_dim` argument to a layer. When using Sequential models, prefer using an `Input(shape)` object as the first layer in the model instead.\n",
      "  super().__init__(**kwargs)\n"
     ]
    },
    {
     "name": "stdout",
     "output_type": "stream",
     "text": [
      "Epoch 1/10\n",
      "1691/1691 - 4s - 3ms/step - accuracy: 0.8573 - loss: 0.4219\n",
      "Epoch 2/10\n",
      "1691/1691 - 5s - 3ms/step - accuracy: 0.8916 - loss: 0.3070\n",
      "Epoch 3/10\n",
      "1691/1691 - 3s - 2ms/step - accuracy: 0.9019 - loss: 0.2716\n",
      "Epoch 4/10\n",
      "1691/1691 - 3s - 2ms/step - accuracy: 0.9099 - loss: 0.2492\n",
      "Epoch 5/10\n",
      "1691/1691 - 3s - 2ms/step - accuracy: 0.9147 - loss: 0.2328\n",
      "Epoch 6/10\n",
      "1691/1691 - 3s - 2ms/step - accuracy: 0.9195 - loss: 0.2197\n",
      "Epoch 7/10\n",
      "1691/1691 - 3s - 2ms/step - accuracy: 0.9221 - loss: 0.2087\n",
      "Epoch 8/10\n",
      "1691/1691 - 3s - 2ms/step - accuracy: 0.9271 - loss: 0.1983\n",
      "Epoch 9/10\n",
      "1691/1691 - 3s - 2ms/step - accuracy: 0.9291 - loss: 0.1901\n",
      "Epoch 10/10\n",
      "1691/1691 - 3s - 2ms/step - accuracy: 0.9317 - loss: 0.1834\n",
      "\u001b[1m313/313\u001b[0m \u001b[32m━━━━━━━━━━━━━━━━━━━━\u001b[0m\u001b[37m\u001b[0m \u001b[1m0s\u001b[0m 1ms/step\n",
      "Desbalanceado - Accuracy Coat: 0.0810, F1 Coat: 0.0214\n"
     ]
    }
   ],
   "source": [
    "# Fiteamos el modelo con el dataset desbalanceado\n",
    "model_ds = create_model()\n",
    "model_ds.fit(train_images_ds, train_labels_ds, epochs=10, verbose=2)\n",
    "\n",
    "# Evaluamos el modelo desbalanceado\n",
    "prob_model_ds = tf.keras.Sequential([model_ds, tf.keras.layers.Softmax()])\n",
    "predictions_ds = np.argmax(prob_model_ds.predict(test_images), axis=1)\n",
    "\n",
    "# Métricas para la clase desbalanceada \"Coat\"\n",
    "mask = test_labels == minority_class\n",
    "acc_ds = accuracy_score(test_labels[mask], predictions_ds[mask])\n",
    "f1_ds = f1_score(test_labels[mask], predictions_ds[mask], average='macro')\n",
    "\n",
    "# Resultados\n",
    "print(f\"Desbalanceado - Accuracy Coat: {acc_ds:.4f}, F1 Coat: {f1_ds:.4f}\")\n"
   ]
  },
  {
   "cell_type": "markdown",
   "id": "f9a29976",
   "metadata": {},
   "source": [
    "Ejemplo de predicción para el Modelo Desbalanceado"
   ]
  },
  {
   "cell_type": "code",
   "execution_count": 40,
   "id": "fde7b265",
   "metadata": {},
   "outputs": [
    {
     "data": {
      "image/png": "[encoded data removed]",
      "text/plain": [
       "<Figure size 640x480 with 1 Axes>"
      ]
     },
     "metadata": {},
     "output_type": "display_data"
    }
   ],
   "source": [
    "idx = np.where(test_labels==minority_class)[0][0]\n",
    "plt.imshow(test_images[idx], cmap='gray')\n",
    "plt.title(f\"Etiqueta real: {class_names[test_labels[idx]]}\\nPredicción: {class_names[predictions_ds[idx]]}\")\n",
    "plt.show()"
   ]
  },
  {
   "cell_type": "markdown",
   "id": "04839ce8",
   "metadata": {},
   "source": [
    "### 1.2 - Balanceo Artificial por remuestreo\n",
    "- Modelo generado mediante un balanceo artificial de la clase \"Coat\"\n",
    "- Se generaron rotaciones y modificaciones de altura y largo para modificar las muestras existentes y generar más.\n",
    "- Se utiliza la técnica de remuestreo, mas puntualmente la de oversampling."
   ]
  },
  {
   "cell_type": "markdown",
   "id": "547de522",
   "metadata": {},
   "source": [
    "Balanceo por técnica de remuestreo oversampling"
   ]
  },
  {
   "cell_type": "code",
   "execution_count": 41,
   "id": "c3d94036",
   "metadata": {},
   "outputs": [
    {
     "name": "stdout",
     "output_type": "stream",
     "text": [
      "Cantidad de imágenes después de balanceo artificial:\n",
      "T-shirt/top: 6000\n",
      "Trouser: 6000\n",
      "Pullover: 6000\n",
      "Dress: 6000\n",
      "Coat: 6000\n",
      "Sandal: 6000\n",
      "Shirt: 6000\n",
      "Sneaker: 6000\n",
      "Bag: 6000\n",
      "Ankle boot: 6000\n"
     ]
    }
   ],
   "source": [
    "# Aumentación de datos para balancear la clase minoritaria\n",
    "datagen = ImageDataGenerator(rotation_range=20,\n",
    "                             width_shift_range=0.1,\n",
    "                             height_shift_range=0.1,\n",
    "                             horizontal_flip=True)\n",
    "\n",
    "# Extraemos las imágenes y etiquetas de la clase minoritaria\n",
    "minority_imgs = train_images_ds[train_labels_ds==minority_class]\n",
    "minority_lbls = train_labels_ds[train_labels_ds==minority_class]\n",
    "\n",
    "# Queremos igualar la cantidad de la clase minoritaria con la mayoría\n",
    "majority_count = max([(train_labels_ds==i).sum() for i in range(10) if i!=minority_class])\n",
    "n_needed = majority_count - len(minority_imgs)\n",
    "\n",
    "aug_images, aug_labels = [], []\n",
    "\n",
    "# Generamos imágenes aumentadas hasta alcanzar el balance\n",
    "for x, y in zip(minority_imgs, minority_lbls):\n",
    "    x = x.reshape((1,28,28,1))\n",
    "    for batch in datagen.flow(x, batch_size=1):\n",
    "        # Guardamos la imagen aumentada y su etiqueta\n",
    "        aug_images.append(batch[0].reshape(28,28))\n",
    "        aug_labels.append(y)\n",
    "        if len(aug_images) >= n_needed:\n",
    "            break\n",
    "    if len(aug_images) >= n_needed:\n",
    "        break\n",
    "\n",
    "# Combinamos las imágenes aumentadas con el dataset desbalanceado\n",
    "train_images_aug = np.concatenate([train_images_ds, np.array(aug_images)])\n",
    "train_labels_aug = np.concatenate([train_labels_ds, np.array(aug_labels)])\n",
    "\n",
    "print(\"Cantidad de imágenes después de balanceo artificial:\")\n",
    "for i in range(10):\n",
    "    print(f\"{class_names[i]}: {(train_labels_aug==i).sum()}\")\n"
   ]
  },
  {
   "cell_type": "markdown",
   "id": "2f10ab15",
   "metadata": {},
   "source": [
    "Creamos el modelo balanceado artificialmente"
   ]
  },
  {
   "cell_type": "code",
   "execution_count": 42,
   "id": "5df98aad",
   "metadata": {},
   "outputs": [
    {
     "name": "stderr",
     "output_type": "stream",
     "text": [
      "c:\\Users\\Bruno\\Desktop\\INF395 - IRN\\tareas\\tarea_2\\tf_venv\\Lib\\site-packages\\keras\\src\\layers\\reshaping\\flatten.py:37: UserWarning: Do not pass an `input_shape`/`input_dim` argument to a layer. When using Sequential models, prefer using an `Input(shape)` object as the first layer in the model instead.\n",
      "  super().__init__(**kwargs)\n"
     ]
    },
    {
     "name": "stdout",
     "output_type": "stream",
     "text": [
      "Epoch 1/10\n",
      "1875/1875 - 5s - 3ms/step - accuracy: 0.8695 - loss: 0.3914\n",
      "Epoch 2/10\n",
      "1875/1875 - 5s - 2ms/step - accuracy: 0.9019 - loss: 0.2807\n",
      "Epoch 3/10\n",
      "1875/1875 - 4s - 2ms/step - accuracy: 0.9099 - loss: 0.2496\n",
      "Epoch 4/10\n",
      "1875/1875 - 4s - 2ms/step - accuracy: 0.9182 - loss: 0.2259\n",
      "Epoch 5/10\n",
      "1875/1875 - 5s - 3ms/step - accuracy: 0.9216 - loss: 0.2119\n",
      "Epoch 6/10\n",
      "1875/1875 - 5s - 3ms/step - accuracy: 0.9269 - loss: 0.2008\n",
      "Epoch 7/10\n",
      "1875/1875 - 5s - 2ms/step - accuracy: 0.9287 - loss: 0.1915\n",
      "Epoch 8/10\n",
      "1875/1875 - 4s - 2ms/step - accuracy: 0.9327 - loss: 0.1794\n",
      "Epoch 9/10\n",
      "1875/1875 - 4s - 2ms/step - accuracy: 0.9359 - loss: 0.1730\n",
      "Epoch 10/10\n",
      "1875/1875 - 4s - 2ms/step - accuracy: 0.9385 - loss: 0.1642\n",
      "\u001b[1m313/313\u001b[0m \u001b[32m━━━━━━━━━━━━━━━━━━━━\u001b[0m\u001b[37m\u001b[0m \u001b[1m0s\u001b[0m 1ms/step  \n",
      "Balanceado artificial - Accuracy Coat: 0.2710, F1 Coat: 0.0711\n"
     ]
    }
   ],
   "source": [
    "# Fiteamos el modelo con el dataset balanceado artificialmente\n",
    "model_aug = create_model()\n",
    "model_aug.fit(train_images_aug, train_labels_aug, epochs=10, verbose=2)\n",
    "\n",
    "# Evaluamos el modelo balanceado artificialmente\n",
    "prob_model_aug = tf.keras.Sequential([model_aug, tf.keras.layers.Softmax()])\n",
    "predictions_aug = np.argmax(prob_model_aug.predict(test_images), axis=1)\n",
    "\n",
    "# Métricas para la clase desbalanceada \"Coat\"\n",
    "acc_aug = accuracy_score(test_labels[mask], predictions_aug[mask])\n",
    "f1_aug = f1_score(test_labels[mask], predictions_aug[mask], average='macro')\n",
    "\n",
    "# Resultados\n",
    "print(f\"Balanceado artificial - Accuracy Coat: {acc_aug:.4f}, F1 Coat: {f1_aug:.4f}\")\n"
   ]
  },
  {
   "cell_type": "markdown",
   "id": "50c167cd",
   "metadata": {},
   "source": [
    "Ejemplo de predicción con el Modelo Artificialmente Balanceado"
   ]
  },
  {
   "cell_type": "code",
   "execution_count": 43,
   "id": "d27c1323",
   "metadata": {},
   "outputs": [
    {
     "data": {
      "image/png": "[encoded data removed]",
      "text/plain": [
       "<Figure size 640x480 with 1 Axes>"
      ]
     },
     "metadata": {},
     "output_type": "display_data"
    }
   ],
   "source": [
    "idx = np.where(test_labels==minority_class)[0][1]\n",
    "plt.imshow(test_images[idx], cmap='gray')\n",
    "plt.title(f\"Etiqueta real: {class_names[test_labels[idx]]}\\nPredicción: {class_names[predictions_aug[idx]]}\")\n",
    "plt.show()"
   ]
  },
  {
   "cell_type": "markdown",
   "id": "61f42134",
   "metadata": {},
   "source": [
    "### 1.3 - Balanceo mediante modificación de la función objetivo\n",
    "- Modelo generado mediante un balanceo artificial de la clase \"Coat\"\n",
    "- Se penaliza más el error para la clase que posee menos muestras, en este caso \"Coat\".\n",
    "- De esta forma el modelo compensa ese desbalance.\n",
    "- No cambia el dataset, sino cómo el modelo aprende."
   ]
  },
  {
   "cell_type": "code",
   "execution_count": 44,
   "id": "ca40bd4d",
   "metadata": {},
   "outputs": [
    {
     "name": "stdout",
     "output_type": "stream",
     "text": [
      "Pesos asignados por clase:\n",
      "T-shirt/top: 0.902\n",
      "Trouser: 0.902\n",
      "Pullover: 0.902\n",
      "Dress: 0.902\n",
      "Coat: 54.100\n",
      "Sandal: 0.902\n",
      "Shirt: 0.902\n",
      "Sneaker: 0.902\n",
      "Bag: 0.902\n",
      "Ankle boot: 0.902\n"
     ]
    }
   ],
   "source": [
    "class_counts = Counter(train_labels_ds)\n",
    "total_samples = len(train_labels_ds)\n",
    "n_classes = len(class_counts)\n",
    "\n",
    "# Si hay menos muestras de una clase, mayor será su peso\n",
    "class_weight = {i: total_samples / (n_classes * class_counts[i]) for i in class_counts}\n",
    "\n",
    "# Mostramos los pesos asignados por clase\n",
    "print(\"Pesos asignados por clase:\")\n",
    "for i in range(10):\n",
    "    print(f\"{class_names[i]}: {class_weight[i]:.3f}\")"
   ]
  },
  {
   "cell_type": "code",
   "execution_count": 45,
   "id": "3c9fbbd9",
   "metadata": {},
   "outputs": [
    {
     "name": "stderr",
     "output_type": "stream",
     "text": [
      "c:\\Users\\Bruno\\Desktop\\INF395 - IRN\\tareas\\tarea_2\\tf_venv\\Lib\\site-packages\\keras\\src\\layers\\reshaping\\flatten.py:37: UserWarning: Do not pass an `input_shape`/`input_dim` argument to a layer. When using Sequential models, prefer using an `Input(shape)` object as the first layer in the model instead.\n",
      "  super().__init__(**kwargs)\n"
     ]
    },
    {
     "name": "stdout",
     "output_type": "stream",
     "text": [
      "\u001b[1m313/313\u001b[0m \u001b[32m━━━━━━━━━━━━━━━━━━━━\u001b[0m\u001b[37m\u001b[0m \u001b[1m0s\u001b[0m 961us/step\n",
      "\n",
      "--- Métricas para clase 'Coat' (con class_weight) ---\n",
      "Accuracy (Coat): 0.6610\n",
      "F1-score (Coat): 0.1137\n"
     ]
    }
   ],
   "source": [
    "# Fiteamos el modelo con class_weight\n",
    "model_weighted = create_model()\n",
    "history_weighted = model_weighted.fit(train_images_ds, train_labels_ds,\n",
    "                                      epochs=10, batch_size=64, verbose=0,\n",
    "                                      validation_split=0.2,\n",
    "                                      class_weight=class_weight)\n",
    "\n",
    "# Evaluamos el modelo con class_weight\n",
    "y_pred_w = np.argmax(model_weighted.predict(test_images), axis=1)\n",
    "report_w = classification_report(test_labels, y_pred_w, output_dict=True)\n",
    "\n",
    "mask = test_labels == minority_class\n",
    "acc_wgt = accuracy_score(test_labels[mask], y_pred_w[mask])\n",
    "f1_wgt = f1_score(test_labels[mask], y_pred_w[mask], average='macro')\n",
    "\n",
    "# Resultados\n",
    "print(\"\\n--- Métricas para clase 'Coat' (con class_weight) ---\")\n",
    "print(f\"Accuracy (Coat): {acc_wgt:.4f}\")\n",
    "print(f\"F1-score (Coat): {f1_wgt:.4f}\")"
   ]
  },
  {
   "cell_type": "code",
   "execution_count": 46,
   "id": "ca123841",
   "metadata": {},
   "outputs": [
    {
     "name": "stdout",
     "output_type": "stream",
     "text": [
      "\u001b[1m1/1\u001b[0m \u001b[32m━━━━━━━━━━━━━━━━━━━━\u001b[0m\u001b[37m\u001b[0m \u001b[1m0s\u001b[0m 21ms/step\n"
     ]
    },
    {
     "data": {
      "image/png": "[encoded data removed]",
      "text/plain": [
       "<Figure size 640x480 with 1 Axes>"
      ]
     },
     "metadata": {},
     "output_type": "display_data"
    }
   ],
   "source": [
    "idx = np.where(test_labels == minority_class)[0][2]\n",
    "\n",
    "plt.imshow(test_images[idx], cmap='gray')\n",
    "pred_label = np.argmax(model_weighted.predict(np.expand_dims(test_images[idx], 0)))\n",
    "plt.title(f\"Etiqueta real: {class_names[test_labels[idx]]}\\nPredicción: {class_names[pred_label]}\")\n",
    "plt.show()"
   ]
  },
  {
   "cell_type": "code",
   "execution_count": 47,
   "id": "fa35db1f",
   "metadata": {},
   "outputs": [
    {
     "name": "stdout",
     "output_type": "stream",
     "text": [
      "\u001b[1m1/1\u001b[0m \u001b[32m━━━━━━━━━━━━━━━━━━━━\u001b[0m\u001b[37m\u001b[0m \u001b[1m0s\u001b[0m 33ms/step\n"
     ]
    },
    {
     "data": {
      "image/png": "[encoded data removed]",
      "text/plain": [
       "<Figure size 640x480 with 1 Axes>"
      ]
     },
     "metadata": {},
     "output_type": "display_data"
    }
   ],
   "source": [
    "idx = np.where(test_labels == minority_class)[0][6]\n",
    "\n",
    "plt.imshow(test_images[idx], cmap='gray')\n",
    "pred_label = np.argmax(model_weighted.predict(np.expand_dims(test_images[idx], 0)))\n",
    "plt.title(f\"Etiqueta real: {class_names[test_labels[idx]]}\\nPredicción: {class_names[pred_label]}\")\n",
    "plt.show()"
   ]
  },
  {
   "cell_type": "markdown",
   "id": "78d9f535",
   "metadata": {},
   "source": [
    "### 1.4 - Modelo balanceado original\n",
    "Dataset completo, sin crear recortes artificiales, éste se encuentra balanceado desde el inicio"
   ]
  },
  {
   "cell_type": "code",
   "execution_count": 48,
   "id": "7c11fcd0",
   "metadata": {},
   "outputs": [
    {
     "name": "stdout",
     "output_type": "stream",
     "text": [
      "Epoch 1/10\n"
     ]
    },
    {
     "name": "stderr",
     "output_type": "stream",
     "text": [
      "c:\\Users\\Bruno\\Desktop\\INF395 - IRN\\tareas\\tarea_2\\tf_venv\\Lib\\site-packages\\keras\\src\\layers\\reshaping\\flatten.py:37: UserWarning: Do not pass an `input_shape`/`input_dim` argument to a layer. When using Sequential models, prefer using an `Input(shape)` object as the first layer in the model instead.\n",
      "  super().__init__(**kwargs)\n"
     ]
    },
    {
     "name": "stdout",
     "output_type": "stream",
     "text": [
      "1875/1875 - 4s - 2ms/step - accuracy: 0.8245 - loss: 0.4967\n",
      "Epoch 2/10\n",
      "1875/1875 - 4s - 2ms/step - accuracy: 0.8630 - loss: 0.3776\n",
      "Epoch 3/10\n",
      "1875/1875 - 3s - 2ms/step - accuracy: 0.8760 - loss: 0.3392\n",
      "Epoch 4/10\n",
      "1875/1875 - 3s - 2ms/step - accuracy: 0.8842 - loss: 0.3142\n",
      "Epoch 5/10\n",
      "1875/1875 - 3s - 2ms/step - accuracy: 0.8918 - loss: 0.2937\n",
      "Epoch 6/10\n",
      "1875/1875 - 4s - 2ms/step - accuracy: 0.8961 - loss: 0.2815\n",
      "Epoch 7/10\n",
      "1875/1875 - 4s - 2ms/step - accuracy: 0.9000 - loss: 0.2685\n",
      "Epoch 8/10\n",
      "1875/1875 - 4s - 2ms/step - accuracy: 0.9040 - loss: 0.2571\n",
      "Epoch 9/10\n",
      "1875/1875 - 4s - 2ms/step - accuracy: 0.9078 - loss: 0.2473\n",
      "Epoch 10/10\n",
      "1875/1875 - 4s - 2ms/step - accuracy: 0.9110 - loss: 0.2399\n",
      "\u001b[1m313/313\u001b[0m \u001b[32m━━━━━━━━━━━━━━━━━━━━\u001b[0m\u001b[37m\u001b[0m \u001b[1m0s\u001b[0m 1ms/step  \n",
      "Balanceado original - Accuracy Coat: 0.7780, F1 Coat: 0.1750\n"
     ]
    }
   ],
   "source": [
    "model_bal = create_model()\n",
    "model_bal.fit(train_images, train_labels, epochs=10, verbose=2)\n",
    "\n",
    "prob_model_bal = tf.keras.Sequential([model_bal, tf.keras.layers.Softmax()])\n",
    "predictions_bal = np.argmax(prob_model_bal.predict(test_images), axis=1)\n",
    "\n",
    "acc_bal = accuracy_score(test_labels[mask], predictions_bal[mask])\n",
    "f1_bal = f1_score(test_labels[mask], predictions_bal[mask], average='macro')\n",
    "print(f\"Balanceado original - Accuracy Coat: {acc_bal:.4f}, F1 Coat: {f1_bal:.4f}\")\n",
    "\n"
   ]
  },
  {
   "cell_type": "markdown",
   "id": "44a5d71b",
   "metadata": {},
   "source": [
    "Ejemplo de predicción con el Modelo Balanceado Original"
   ]
  },
  {
   "cell_type": "code",
   "execution_count": 49,
   "id": "954290c1",
   "metadata": {},
   "outputs": [
    {
     "data": {
      "image/png": "[encoded data removed]",
      "text/plain": [
       "<Figure size 640x480 with 1 Axes>"
      ]
     },
     "metadata": {},
     "output_type": "display_data"
    }
   ],
   "source": [
    "idx = np.where(test_labels==minority_class)[0][2]\n",
    "plt.imshow(test_images[idx], cmap='gray')\n",
    "plt.title(f\"Etiqueta real: {class_names[test_labels[idx]]}\\nPredicción: {class_names[predictions_bal[idx]]}\")\n",
    "plt.show()"
   ]
  },
  {
   "cell_type": "markdown",
   "id": "3b331fd6",
   "metadata": {},
   "source": [
    "### 1.5 - Comparación final de los 4 modelos"
   ]
  },
  {
   "cell_type": "code",
   "execution_count": 50,
   "id": "20965bbc",
   "metadata": {},
   "outputs": [
    {
     "data": {
      "image/png": "[encoded data removed]",
      "text/plain": [
       "<Figure size 900x500 with 1 Axes>"
      ]
     },
     "metadata": {},
     "output_type": "display_data"
    }
   ],
   "source": [
    "# Nombres de los modelos\n",
    "models = [\n",
    "    'Desbalanceado',\n",
    "    'Balanceado artificial',\n",
    "    'Balanceado original',\n",
    "    'Balanceado por F.O'\n",
    "]\n",
    "\n",
    "# Métricas obtenidas (rellena con tus valores reales)\n",
    "acc_values = [acc_ds, acc_aug, acc_bal, acc_wgt]\n",
    "f1_values = [f1_ds, f1_aug, f1_bal, f1_wgt]\n",
    "\n",
    "# Configuración de posiciones y ancho de barras\n",
    "x = np.arange(len(models))\n",
    "width = 0.35\n",
    "\n",
    "# Crear figura\n",
    "fig, ax = plt.subplots(figsize=(9,5))\n",
    "rects1 = ax.bar(x - width/2, acc_values, width, label='Accuracy', alpha=0.8)\n",
    "rects2 = ax.bar(x + width/2, f1_values, width, label='F1 Score', alpha=0.8)\n",
    "\n",
    "# Etiquetas y título\n",
    "ax.set_ylabel('Métricas')\n",
    "ax.set_title('Comparación de Accuracy y F1 para la clase \"Coat\"')\n",
    "ax.set_xticks(x)\n",
    "ax.set_xticklabels(models, rotation=15)\n",
    "ax.legend()\n",
    "\n",
    "# Mostrar valores encima de cada barra\n",
    "for rect in rects1 + rects2:\n",
    "    height = rect.get_height()\n",
    "    ax.annotate(f'{height:.2f}',\n",
    "                xy=(rect.get_x() + rect.get_width()/2, height),\n",
    "                xytext=(0,3),\n",
    "                textcoords=\"offset points\",\n",
    "                ha='center', va='bottom',\n",
    "                fontsize=9)\n",
    "\n",
    "plt.tight_layout()\n",
    "plt.show()"
   ]
  },
  {
   "cell_type": "markdown",
   "id": "99be23c4",
   "metadata": {},
   "source": [
    "# Parte 2: Sistema de recomendación"
   ]
  },
  {
   "cell_type": "markdown",
   "id": "5be53b85",
   "metadata": {},
   "source": [
    "### Parte 2.1: Reproducir ejemplo en PyTorch"
   ]
  },
  {
   "cell_type": "code",
   "execution_count": 51,
   "id": "be25f81c",
   "metadata": {},
   "outputs": [],
   "source": [
    "%matplotlib inline\n",
    "import matplotlib.pyplot as plt\n",
    "import numpy as np\n",
    "import os\n",
    "\n",
    "from zipfile import ZipFile\n",
    "from urllib.request import urlretrieve\n",
    "\n",
    "import pandas as pd\n",
    "\n",
    "from sklearn.model_selection import train_test_split\n",
    "\n",
    "\n",
    "ML_100K_URL = \"http://files.grouplens.org/datasets/movielens/ml-100k.zip\"\n",
    "ML_100K_FILENAME = ML_100K_URL.rsplit('/', 1)[1]\n",
    "ML_100K_FOLDER = 'ml-100k'\n",
    "\n",
    "if not os.path.exists(ML_100K_FILENAME):\n",
    "    print('Downloading %s to %s...' % (ML_100K_URL, ML_100K_FILENAME))\n",
    "    urlretrieve(ML_100K_URL, ML_100K_FILENAME)\n",
    "\n",
    "if not os.path.exists(ML_100K_FOLDER):\n",
    "    print('Extracting %s to %s...' % (ML_100K_FILENAME, ML_100K_FOLDER))\n",
    "    ZipFile(ML_100K_FILENAME).extractall('.')"
   ]
  },
  {
   "cell_type": "code",
   "execution_count": 52,
   "id": "62253685",
   "metadata": {},
   "outputs": [
    {
     "data": {
      "text/html": [
       "<div>\n",
       "<style scoped>\n",
       "    .dataframe tbody tr th:only-of-type {\n",
       "        vertical-align: middle;\n",
       "    }\n",
       "\n",
       "    .dataframe tbody tr th {\n",
       "        vertical-align: top;\n",
       "    }\n",
       "\n",
       "    .dataframe thead th {\n",
       "        text-align: right;\n",
       "    }\n",
       "</style>\n",
       "<table border=\"1\" class=\"dataframe\">\n",
       "  <thead>\n",
       "    <tr style=\"text-align: right;\">\n",
       "      <th></th>\n",
       "      <th>user_id</th>\n",
       "      <th>item_id</th>\n",
       "      <th>rating</th>\n",
       "      <th>timestamp</th>\n",
       "    </tr>\n",
       "  </thead>\n",
       "  <tbody>\n",
       "    <tr>\n",
       "      <th>0</th>\n",
       "      <td>196</td>\n",
       "      <td>242</td>\n",
       "      <td>3</td>\n",
       "      <td>881250949</td>\n",
       "    </tr>\n",
       "    <tr>\n",
       "      <th>1</th>\n",
       "      <td>186</td>\n",
       "      <td>302</td>\n",
       "      <td>3</td>\n",
       "      <td>891717742</td>\n",
       "    </tr>\n",
       "    <tr>\n",
       "      <th>2</th>\n",
       "      <td>22</td>\n",
       "      <td>377</td>\n",
       "      <td>1</td>\n",
       "      <td>878887116</td>\n",
       "    </tr>\n",
       "    <tr>\n",
       "      <th>3</th>\n",
       "      <td>244</td>\n",
       "      <td>51</td>\n",
       "      <td>2</td>\n",
       "      <td>880606923</td>\n",
       "    </tr>\n",
       "    <tr>\n",
       "      <th>4</th>\n",
       "      <td>166</td>\n",
       "      <td>346</td>\n",
       "      <td>1</td>\n",
       "      <td>886397596</td>\n",
       "    </tr>\n",
       "  </tbody>\n",
       "</table>\n",
       "</div>"
      ],
      "text/plain": [
       "   user_id  item_id  rating  timestamp\n",
       "0      196      242       3  881250949\n",
       "1      186      302       3  891717742\n",
       "2       22      377       1  878887116\n",
       "3      244       51       2  880606923\n",
       "4      166      346       1  886397596"
      ]
     },
     "execution_count": 52,
     "metadata": {},
     "output_type": "execute_result"
    }
   ],
   "source": [
    "raw_ratings = pd.read_csv(os.path.join(ML_100K_FOLDER, 'u.data'), sep='\\t',\n",
    "                      names=[\"user_id\", \"item_id\", \"rating\", \"timestamp\"])\n",
    "raw_ratings.head()"
   ]
  },
  {
   "cell_type": "code",
   "execution_count": 53,
   "id": "85160073",
   "metadata": {},
   "outputs": [
    {
     "data": {
      "text/plain": [
       "Text(0, 0.5, 'Number of users')"
      ]
     },
     "execution_count": 53,
     "metadata": {},
     "output_type": "execute_result"
    },
    {
     "data": {
      "image/png": "[encoded data removed]",
      "text/plain": [
       "<Figure size 800x500 with 1 Axes>"
      ]
     },
     "metadata": {},
     "output_type": "display_data"
    }
   ],
   "source": [
    "# Cuantas peliculas ha visto cada usuario\n",
    "user_movie_counts = raw_ratings.groupby('user_id')['item_id'].nunique()\n",
    "\n",
    "plt.figure(figsize=(8, 5))\n",
    "plt.hist(user_movie_counts, bins=30, edgecolor='black')\n",
    "plt.xlabel('Movies seen per user')\n",
    "plt.ylabel('Number of users')"
   ]
  },
  {
   "cell_type": "markdown",
   "id": "ecc5673b",
   "metadata": {},
   "source": [
    "El archivo de metadatos contiene información como el nombre de la película o la fecha en que fue estrenada."
   ]
  },
  {
   "cell_type": "code",
   "execution_count": 54,
   "id": "3368f940",
   "metadata": {},
   "outputs": [
    {
     "data": {
      "text/html": [
       "<div>\n",
       "<style scoped>\n",
       "    .dataframe tbody tr th:only-of-type {\n",
       "        vertical-align: middle;\n",
       "    }\n",
       "\n",
       "    .dataframe tbody tr th {\n",
       "        vertical-align: top;\n",
       "    }\n",
       "\n",
       "    .dataframe thead th {\n",
       "        text-align: right;\n",
       "    }\n",
       "</style>\n",
       "<table border=\"1\" class=\"dataframe\">\n",
       "  <thead>\n",
       "    <tr style=\"text-align: right;\">\n",
       "      <th></th>\n",
       "      <th>item_id</th>\n",
       "      <th>title</th>\n",
       "      <th>release_date</th>\n",
       "      <th>video_release_date</th>\n",
       "      <th>imdb_url</th>\n",
       "    </tr>\n",
       "  </thead>\n",
       "  <tbody>\n",
       "    <tr>\n",
       "      <th>0</th>\n",
       "      <td>1</td>\n",
       "      <td>Toy Story (1995)</td>\n",
       "      <td>01-Jan-1995</td>\n",
       "      <td>NaN</td>\n",
       "      <td>http://us.imdb.com/M/title-exact?Toy%20Story%2...</td>\n",
       "    </tr>\n",
       "    <tr>\n",
       "      <th>1</th>\n",
       "      <td>2</td>\n",
       "      <td>GoldenEye (1995)</td>\n",
       "      <td>01-Jan-1995</td>\n",
       "      <td>NaN</td>\n",
       "      <td>http://us.imdb.com/M/title-exact?GoldenEye%20(...</td>\n",
       "    </tr>\n",
       "    <tr>\n",
       "      <th>2</th>\n",
       "      <td>3</td>\n",
       "      <td>Four Rooms (1995)</td>\n",
       "      <td>01-Jan-1995</td>\n",
       "      <td>NaN</td>\n",
       "      <td>http://us.imdb.com/M/title-exact?Four%20Rooms%...</td>\n",
       "    </tr>\n",
       "    <tr>\n",
       "      <th>3</th>\n",
       "      <td>4</td>\n",
       "      <td>Get Shorty (1995)</td>\n",
       "      <td>01-Jan-1995</td>\n",
       "      <td>NaN</td>\n",
       "      <td>http://us.imdb.com/M/title-exact?Get%20Shorty%...</td>\n",
       "    </tr>\n",
       "    <tr>\n",
       "      <th>4</th>\n",
       "      <td>5</td>\n",
       "      <td>Copycat (1995)</td>\n",
       "      <td>01-Jan-1995</td>\n",
       "      <td>NaN</td>\n",
       "      <td>http://us.imdb.com/M/title-exact?Copycat%20(1995)</td>\n",
       "    </tr>\n",
       "  </tbody>\n",
       "</table>\n",
       "</div>"
      ],
      "text/plain": [
       "   item_id              title release_date  video_release_date  \\\n",
       "0        1   Toy Story (1995)  01-Jan-1995                 NaN   \n",
       "1        2   GoldenEye (1995)  01-Jan-1995                 NaN   \n",
       "2        3  Four Rooms (1995)  01-Jan-1995                 NaN   \n",
       "3        4  Get Shorty (1995)  01-Jan-1995                 NaN   \n",
       "4        5     Copycat (1995)  01-Jan-1995                 NaN   \n",
       "\n",
       "                                            imdb_url  \n",
       "0  http://us.imdb.com/M/title-exact?Toy%20Story%2...  \n",
       "1  http://us.imdb.com/M/title-exact?GoldenEye%20(...  \n",
       "2  http://us.imdb.com/M/title-exact?Four%20Rooms%...  \n",
       "3  http://us.imdb.com/M/title-exact?Get%20Shorty%...  \n",
       "4  http://us.imdb.com/M/title-exact?Copycat%20(1995)  "
      ]
     },
     "execution_count": 54,
     "metadata": {},
     "output_type": "execute_result"
    }
   ],
   "source": [
    "m_cols = ['item_id', 'title', 'release_date', 'video_release_date', 'imdb_url']\n",
    "items = pd.read_csv(os.path.join(ML_100K_FOLDER, 'u.item'), sep='|',\n",
    "                    names=m_cols, usecols=range(5), encoding='latin-1')\n",
    "items.head()"
   ]
  },
  {
   "cell_type": "code",
   "execution_count": 55,
   "id": "ec4e8574",
   "metadata": {},
   "outputs": [
    {
     "data": {
      "text/plain": [
       "array([[<Axes: title={'center': 'release_year'}>]], dtype=object)"
      ]
     },
     "execution_count": 55,
     "metadata": {},
     "output_type": "execute_result"
    },
    {
     "data": {
      "image/png": "[encoded data removed]",
      "text/plain": [
       "<Figure size 640x480 with 1 Axes>"
      ]
     },
     "metadata": {},
     "output_type": "display_data"
    }
   ],
   "source": [
    "# Extraemos el año de lanzamiento de la película\n",
    "\n",
    "def extract_year(release_date):\n",
    "    if hasattr(release_date, 'split'):\n",
    "        components = release_date.split('-')\n",
    "        if len(components) == 3:\n",
    "            return int(components[2])\n",
    "    # Missing value marker\n",
    "    return 1920\n",
    "\n",
    "\n",
    "items['release_year'] = items['release_date'].map(extract_year)\n",
    "items.hist('release_year', bins=50)"
   ]
  },
  {
   "cell_type": "markdown",
   "id": "58267a79",
   "metadata": {},
   "source": [
    "Complemento de los datos originales con los metadatos. Ahora existe duplicidad en los títulos, ya que se repite el dato del título para cada \"rating\""
   ]
  },
  {
   "cell_type": "code",
   "execution_count": 56,
   "id": "2db8c06a",
   "metadata": {},
   "outputs": [
    {
     "data": {
      "text/html": [
       "<div>\n",
       "<style scoped>\n",
       "    .dataframe tbody tr th:only-of-type {\n",
       "        vertical-align: middle;\n",
       "    }\n",
       "\n",
       "    .dataframe tbody tr th {\n",
       "        vertical-align: top;\n",
       "    }\n",
       "\n",
       "    .dataframe thead th {\n",
       "        text-align: right;\n",
       "    }\n",
       "</style>\n",
       "<table border=\"1\" class=\"dataframe\">\n",
       "  <thead>\n",
       "    <tr style=\"text-align: right;\">\n",
       "      <th></th>\n",
       "      <th>item_id</th>\n",
       "      <th>title</th>\n",
       "      <th>release_date</th>\n",
       "      <th>video_release_date</th>\n",
       "      <th>imdb_url</th>\n",
       "      <th>release_year</th>\n",
       "      <th>user_id</th>\n",
       "      <th>rating</th>\n",
       "      <th>timestamp</th>\n",
       "    </tr>\n",
       "  </thead>\n",
       "  <tbody>\n",
       "    <tr>\n",
       "      <th>0</th>\n",
       "      <td>1</td>\n",
       "      <td>Toy Story (1995)</td>\n",
       "      <td>01-Jan-1995</td>\n",
       "      <td>NaN</td>\n",
       "      <td>http://us.imdb.com/M/title-exact?Toy%20Story%2...</td>\n",
       "      <td>1995</td>\n",
       "      <td>308</td>\n",
       "      <td>4</td>\n",
       "      <td>887736532</td>\n",
       "    </tr>\n",
       "    <tr>\n",
       "      <th>1</th>\n",
       "      <td>1</td>\n",
       "      <td>Toy Story (1995)</td>\n",
       "      <td>01-Jan-1995</td>\n",
       "      <td>NaN</td>\n",
       "      <td>http://us.imdb.com/M/title-exact?Toy%20Story%2...</td>\n",
       "      <td>1995</td>\n",
       "      <td>287</td>\n",
       "      <td>5</td>\n",
       "      <td>875334088</td>\n",
       "    </tr>\n",
       "    <tr>\n",
       "      <th>2</th>\n",
       "      <td>1</td>\n",
       "      <td>Toy Story (1995)</td>\n",
       "      <td>01-Jan-1995</td>\n",
       "      <td>NaN</td>\n",
       "      <td>http://us.imdb.com/M/title-exact?Toy%20Story%2...</td>\n",
       "      <td>1995</td>\n",
       "      <td>148</td>\n",
       "      <td>4</td>\n",
       "      <td>877019411</td>\n",
       "    </tr>\n",
       "    <tr>\n",
       "      <th>3</th>\n",
       "      <td>1</td>\n",
       "      <td>Toy Story (1995)</td>\n",
       "      <td>01-Jan-1995</td>\n",
       "      <td>NaN</td>\n",
       "      <td>http://us.imdb.com/M/title-exact?Toy%20Story%2...</td>\n",
       "      <td>1995</td>\n",
       "      <td>280</td>\n",
       "      <td>4</td>\n",
       "      <td>891700426</td>\n",
       "    </tr>\n",
       "    <tr>\n",
       "      <th>4</th>\n",
       "      <td>1</td>\n",
       "      <td>Toy Story (1995)</td>\n",
       "      <td>01-Jan-1995</td>\n",
       "      <td>NaN</td>\n",
       "      <td>http://us.imdb.com/M/title-exact?Toy%20Story%2...</td>\n",
       "      <td>1995</td>\n",
       "      <td>66</td>\n",
       "      <td>3</td>\n",
       "      <td>883601324</td>\n",
       "    </tr>\n",
       "  </tbody>\n",
       "</table>\n",
       "</div>"
      ],
      "text/plain": [
       "   item_id             title release_date  video_release_date  \\\n",
       "0        1  Toy Story (1995)  01-Jan-1995                 NaN   \n",
       "1        1  Toy Story (1995)  01-Jan-1995                 NaN   \n",
       "2        1  Toy Story (1995)  01-Jan-1995                 NaN   \n",
       "3        1  Toy Story (1995)  01-Jan-1995                 NaN   \n",
       "4        1  Toy Story (1995)  01-Jan-1995                 NaN   \n",
       "\n",
       "                                            imdb_url  release_year  user_id  \\\n",
       "0  http://us.imdb.com/M/title-exact?Toy%20Story%2...          1995      308   \n",
       "1  http://us.imdb.com/M/title-exact?Toy%20Story%2...          1995      287   \n",
       "2  http://us.imdb.com/M/title-exact?Toy%20Story%2...          1995      148   \n",
       "3  http://us.imdb.com/M/title-exact?Toy%20Story%2...          1995      280   \n",
       "4  http://us.imdb.com/M/title-exact?Toy%20Story%2...          1995       66   \n",
       "\n",
       "   rating  timestamp  \n",
       "0       4  887736532  \n",
       "1       5  875334088  \n",
       "2       4  877019411  \n",
       "3       4  891700426  \n",
       "4       3  883601324  "
      ]
     },
     "execution_count": 56,
     "metadata": {},
     "output_type": "execute_result"
    }
   ],
   "source": [
    "all_ratings = pd.merge(items, raw_ratings)\n",
    "all_ratings.head()"
   ]
  },
  {
   "cell_type": "code",
   "execution_count": 57,
   "id": "e73e4939",
   "metadata": {},
   "outputs": [
    {
     "data": {
      "text/plain": [
       "count    100000.000000\n",
       "mean          3.529860\n",
       "std           1.125674\n",
       "min           1.000000\n",
       "25%           3.000000\n",
       "50%           4.000000\n",
       "75%           4.000000\n",
       "max           5.000000\n",
       "Name: rating, dtype: float64"
      ]
     },
     "execution_count": 57,
     "metadata": {},
     "output_type": "execute_result"
    }
   ],
   "source": [
    "# Estadisticas sobre todos los ratings\n",
    "all_ratings['rating'].describe()"
   ]
  },
  {
   "cell_type": "markdown",
   "id": "ed96dcd1",
   "metadata": {},
   "source": [
    "Se calcula la popularidad de cada película en función de la cantidad de ratings que ha recibido. Luego, se combinan estos datos con la información de las películas para identificar las 10 películas más populares."
   ]
  },
  {
   "cell_type": "code",
   "execution_count": 58,
   "id": "96f24ba5",
   "metadata": {},
   "outputs": [
    {
     "data": {
      "text/html": [
       "<div>\n",
       "<style scoped>\n",
       "    .dataframe tbody tr th:only-of-type {\n",
       "        vertical-align: middle;\n",
       "    }\n",
       "\n",
       "    .dataframe tbody tr th {\n",
       "        vertical-align: top;\n",
       "    }\n",
       "\n",
       "    .dataframe thead th {\n",
       "        text-align: right;\n",
       "    }\n",
       "</style>\n",
       "<table border=\"1\" class=\"dataframe\">\n",
       "  <thead>\n",
       "    <tr style=\"text-align: right;\">\n",
       "      <th></th>\n",
       "      <th>item_id</th>\n",
       "      <th>popularity</th>\n",
       "      <th>title</th>\n",
       "      <th>release_date</th>\n",
       "      <th>video_release_date</th>\n",
       "      <th>imdb_url</th>\n",
       "      <th>release_year</th>\n",
       "    </tr>\n",
       "  </thead>\n",
       "  <tbody>\n",
       "    <tr>\n",
       "      <th>49</th>\n",
       "      <td>50</td>\n",
       "      <td>583</td>\n",
       "      <td>Star Wars (1977)</td>\n",
       "      <td>01-Jan-1977</td>\n",
       "      <td>NaN</td>\n",
       "      <td>http://us.imdb.com/M/title-exact?Star%20Wars%2...</td>\n",
       "      <td>1977</td>\n",
       "    </tr>\n",
       "    <tr>\n",
       "      <th>257</th>\n",
       "      <td>258</td>\n",
       "      <td>509</td>\n",
       "      <td>Contact (1997)</td>\n",
       "      <td>11-Jul-1997</td>\n",
       "      <td>NaN</td>\n",
       "      <td>http://us.imdb.com/Title?Contact+(1997/I)</td>\n",
       "      <td>1997</td>\n",
       "    </tr>\n",
       "    <tr>\n",
       "      <th>99</th>\n",
       "      <td>100</td>\n",
       "      <td>508</td>\n",
       "      <td>Fargo (1996)</td>\n",
       "      <td>14-Feb-1997</td>\n",
       "      <td>NaN</td>\n",
       "      <td>http://us.imdb.com/M/title-exact?Fargo%20(1996)</td>\n",
       "      <td>1997</td>\n",
       "    </tr>\n",
       "    <tr>\n",
       "      <th>180</th>\n",
       "      <td>181</td>\n",
       "      <td>507</td>\n",
       "      <td>Return of the Jedi (1983)</td>\n",
       "      <td>14-Mar-1997</td>\n",
       "      <td>NaN</td>\n",
       "      <td>http://us.imdb.com/M/title-exact?Return%20of%2...</td>\n",
       "      <td>1997</td>\n",
       "    </tr>\n",
       "    <tr>\n",
       "      <th>293</th>\n",
       "      <td>294</td>\n",
       "      <td>485</td>\n",
       "      <td>Liar Liar (1997)</td>\n",
       "      <td>21-Mar-1997</td>\n",
       "      <td>NaN</td>\n",
       "      <td>http://us.imdb.com/Title?Liar+Liar+(1997)</td>\n",
       "      <td>1997</td>\n",
       "    </tr>\n",
       "    <tr>\n",
       "      <th>285</th>\n",
       "      <td>286</td>\n",
       "      <td>481</td>\n",
       "      <td>English Patient, The (1996)</td>\n",
       "      <td>15-Nov-1996</td>\n",
       "      <td>NaN</td>\n",
       "      <td>http://us.imdb.com/M/title-exact?English%20Pat...</td>\n",
       "      <td>1996</td>\n",
       "    </tr>\n",
       "    <tr>\n",
       "      <th>287</th>\n",
       "      <td>288</td>\n",
       "      <td>478</td>\n",
       "      <td>Scream (1996)</td>\n",
       "      <td>20-Dec-1996</td>\n",
       "      <td>NaN</td>\n",
       "      <td>http://us.imdb.com/M/title-exact?Scream%20(1996)</td>\n",
       "      <td>1996</td>\n",
       "    </tr>\n",
       "    <tr>\n",
       "      <th>0</th>\n",
       "      <td>1</td>\n",
       "      <td>452</td>\n",
       "      <td>Toy Story (1995)</td>\n",
       "      <td>01-Jan-1995</td>\n",
       "      <td>NaN</td>\n",
       "      <td>http://us.imdb.com/M/title-exact?Toy%20Story%2...</td>\n",
       "      <td>1995</td>\n",
       "    </tr>\n",
       "    <tr>\n",
       "      <th>299</th>\n",
       "      <td>300</td>\n",
       "      <td>431</td>\n",
       "      <td>Air Force One (1997)</td>\n",
       "      <td>01-Jan-1997</td>\n",
       "      <td>NaN</td>\n",
       "      <td>http://us.imdb.com/M/title-exact?Air+Force+One...</td>\n",
       "      <td>1997</td>\n",
       "    </tr>\n",
       "    <tr>\n",
       "      <th>120</th>\n",
       "      <td>121</td>\n",
       "      <td>429</td>\n",
       "      <td>Independence Day (ID4) (1996)</td>\n",
       "      <td>03-Jul-1996</td>\n",
       "      <td>NaN</td>\n",
       "      <td>http://us.imdb.com/M/title-exact?Independence%...</td>\n",
       "      <td>1996</td>\n",
       "    </tr>\n",
       "  </tbody>\n",
       "</table>\n",
       "</div>"
      ],
      "text/plain": [
       "     item_id  popularity                          title release_date  \\\n",
       "49        50         583               Star Wars (1977)  01-Jan-1977   \n",
       "257      258         509                 Contact (1997)  11-Jul-1997   \n",
       "99       100         508                   Fargo (1996)  14-Feb-1997   \n",
       "180      181         507      Return of the Jedi (1983)  14-Mar-1997   \n",
       "293      294         485               Liar Liar (1997)  21-Mar-1997   \n",
       "285      286         481    English Patient, The (1996)  15-Nov-1996   \n",
       "287      288         478                  Scream (1996)  20-Dec-1996   \n",
       "0          1         452               Toy Story (1995)  01-Jan-1995   \n",
       "299      300         431           Air Force One (1997)  01-Jan-1997   \n",
       "120      121         429  Independence Day (ID4) (1996)  03-Jul-1996   \n",
       "\n",
       "     video_release_date                                           imdb_url  \\\n",
       "49                  NaN  http://us.imdb.com/M/title-exact?Star%20Wars%2...   \n",
       "257                 NaN          http://us.imdb.com/Title?Contact+(1997/I)   \n",
       "99                  NaN    http://us.imdb.com/M/title-exact?Fargo%20(1996)   \n",
       "180                 NaN  http://us.imdb.com/M/title-exact?Return%20of%2...   \n",
       "293                 NaN          http://us.imdb.com/Title?Liar+Liar+(1997)   \n",
       "285                 NaN  http://us.imdb.com/M/title-exact?English%20Pat...   \n",
       "287                 NaN   http://us.imdb.com/M/title-exact?Scream%20(1996)   \n",
       "0                   NaN  http://us.imdb.com/M/title-exact?Toy%20Story%2...   \n",
       "299                 NaN  http://us.imdb.com/M/title-exact?Air+Force+One...   \n",
       "120                 NaN  http://us.imdb.com/M/title-exact?Independence%...   \n",
       "\n",
       "     release_year  \n",
       "49           1977  \n",
       "257          1997  \n",
       "99           1997  \n",
       "180          1997  \n",
       "293          1997  \n",
       "285          1996  \n",
       "287          1996  \n",
       "0            1995  \n",
       "299          1997  \n",
       "120          1996  "
      ]
     },
     "execution_count": 58,
     "metadata": {},
     "output_type": "execute_result"
    }
   ],
   "source": [
    "popularity = all_ratings.groupby('item_id').size().reset_index(name='popularity')\n",
    "items = pd.merge(popularity, items)\n",
    "items.nlargest(10, 'popularity')"
   ]
  },
  {
   "cell_type": "code",
   "execution_count": 59,
   "id": "3c02df8e",
   "metadata": {},
   "outputs": [
    {
     "data": {
      "text/plain": [
       "'Star Wars (1977)'"
      ]
     },
     "execution_count": 59,
     "metadata": {},
     "output_type": "execute_result"
    }
   ],
   "source": [
    "items[\"title\"][49]"
   ]
  },
  {
   "cell_type": "code",
   "execution_count": 60,
   "id": "2f16eb3a",
   "metadata": {},
   "outputs": [
    {
     "data": {
      "text/plain": [
       "'Star Wars (1977)'"
      ]
     },
     "execution_count": 60,
     "metadata": {},
     "output_type": "execute_result"
    }
   ],
   "source": [
    "indexed_items = items.set_index('item_id')\n",
    "indexed_items[\"title\"][50]"
   ]
  },
  {
   "cell_type": "code",
   "execution_count": 61,
   "id": "47705cc8",
   "metadata": {},
   "outputs": [
    {
     "data": {
      "text/html": [
       "<div>\n",
       "<style scoped>\n",
       "    .dataframe tbody tr th:only-of-type {\n",
       "        vertical-align: middle;\n",
       "    }\n",
       "\n",
       "    .dataframe tbody tr th {\n",
       "        vertical-align: top;\n",
       "    }\n",
       "\n",
       "    .dataframe thead th {\n",
       "        text-align: right;\n",
       "    }\n",
       "</style>\n",
       "<table border=\"1\" class=\"dataframe\">\n",
       "  <thead>\n",
       "    <tr style=\"text-align: right;\">\n",
       "      <th></th>\n",
       "      <th>item_id</th>\n",
       "      <th>popularity</th>\n",
       "      <th>video_release_date</th>\n",
       "      <th>release_year</th>\n",
       "      <th>user_id</th>\n",
       "      <th>rating</th>\n",
       "      <th>timestamp</th>\n",
       "    </tr>\n",
       "  </thead>\n",
       "  <tbody>\n",
       "    <tr>\n",
       "      <th>count</th>\n",
       "      <td>100000.000000</td>\n",
       "      <td>100000.000000</td>\n",
       "      <td>0.0</td>\n",
       "      <td>100000.000000</td>\n",
       "      <td>100000.00000</td>\n",
       "      <td>100000.000000</td>\n",
       "      <td>1.000000e+05</td>\n",
       "    </tr>\n",
       "    <tr>\n",
       "      <th>mean</th>\n",
       "      <td>425.530130</td>\n",
       "      <td>168.071900</td>\n",
       "      <td>NaN</td>\n",
       "      <td>1987.950100</td>\n",
       "      <td>462.48475</td>\n",
       "      <td>3.529860</td>\n",
       "      <td>8.835289e+08</td>\n",
       "    </tr>\n",
       "    <tr>\n",
       "      <th>std</th>\n",
       "      <td>330.798356</td>\n",
       "      <td>121.784558</td>\n",
       "      <td>NaN</td>\n",
       "      <td>14.169558</td>\n",
       "      <td>266.61442</td>\n",
       "      <td>1.125674</td>\n",
       "      <td>5.343856e+06</td>\n",
       "    </tr>\n",
       "    <tr>\n",
       "      <th>min</th>\n",
       "      <td>1.000000</td>\n",
       "      <td>1.000000</td>\n",
       "      <td>NaN</td>\n",
       "      <td>1920.000000</td>\n",
       "      <td>1.00000</td>\n",
       "      <td>1.000000</td>\n",
       "      <td>8.747247e+08</td>\n",
       "    </tr>\n",
       "    <tr>\n",
       "      <th>25%</th>\n",
       "      <td>175.000000</td>\n",
       "      <td>71.000000</td>\n",
       "      <td>NaN</td>\n",
       "      <td>1986.000000</td>\n",
       "      <td>254.00000</td>\n",
       "      <td>3.000000</td>\n",
       "      <td>8.794487e+08</td>\n",
       "    </tr>\n",
       "    <tr>\n",
       "      <th>50%</th>\n",
       "      <td>322.000000</td>\n",
       "      <td>145.000000</td>\n",
       "      <td>NaN</td>\n",
       "      <td>1994.000000</td>\n",
       "      <td>447.00000</td>\n",
       "      <td>4.000000</td>\n",
       "      <td>8.828269e+08</td>\n",
       "    </tr>\n",
       "    <tr>\n",
       "      <th>75%</th>\n",
       "      <td>631.000000</td>\n",
       "      <td>239.000000</td>\n",
       "      <td>NaN</td>\n",
       "      <td>1996.000000</td>\n",
       "      <td>682.00000</td>\n",
       "      <td>4.000000</td>\n",
       "      <td>8.882600e+08</td>\n",
       "    </tr>\n",
       "    <tr>\n",
       "      <th>max</th>\n",
       "      <td>1682.000000</td>\n",
       "      <td>583.000000</td>\n",
       "      <td>NaN</td>\n",
       "      <td>1998.000000</td>\n",
       "      <td>943.00000</td>\n",
       "      <td>5.000000</td>\n",
       "      <td>8.932866e+08</td>\n",
       "    </tr>\n",
       "  </tbody>\n",
       "</table>\n",
       "</div>"
      ],
      "text/plain": [
       "             item_id     popularity  video_release_date   release_year  \\\n",
       "count  100000.000000  100000.000000                 0.0  100000.000000   \n",
       "mean      425.530130     168.071900                 NaN    1987.950100   \n",
       "std       330.798356     121.784558                 NaN      14.169558   \n",
       "min         1.000000       1.000000                 NaN    1920.000000   \n",
       "25%       175.000000      71.000000                 NaN    1986.000000   \n",
       "50%       322.000000     145.000000                 NaN    1994.000000   \n",
       "75%       631.000000     239.000000                 NaN    1996.000000   \n",
       "max      1682.000000     583.000000                 NaN    1998.000000   \n",
       "\n",
       "            user_id         rating     timestamp  \n",
       "count  100000.00000  100000.000000  1.000000e+05  \n",
       "mean      462.48475       3.529860  8.835289e+08  \n",
       "std       266.61442       1.125674  5.343856e+06  \n",
       "min         1.00000       1.000000  8.747247e+08  \n",
       "25%       254.00000       3.000000  8.794487e+08  \n",
       "50%       447.00000       4.000000  8.828269e+08  \n",
       "75%       682.00000       4.000000  8.882600e+08  \n",
       "max       943.00000       5.000000  8.932866e+08  "
      ]
     },
     "execution_count": 61,
     "metadata": {},
     "output_type": "execute_result"
    }
   ],
   "source": [
    "all_ratings = pd.merge(popularity, all_ratings)\n",
    "all_ratings.describe()"
   ]
  },
  {
   "cell_type": "code",
   "execution_count": 62,
   "id": "be4c7f02",
   "metadata": {},
   "outputs": [
    {
     "data": {
      "text/html": [
       "<div>\n",
       "<style scoped>\n",
       "    .dataframe tbody tr th:only-of-type {\n",
       "        vertical-align: middle;\n",
       "    }\n",
       "\n",
       "    .dataframe tbody tr th {\n",
       "        vertical-align: top;\n",
       "    }\n",
       "\n",
       "    .dataframe thead th {\n",
       "        text-align: right;\n",
       "    }\n",
       "</style>\n",
       "<table border=\"1\" class=\"dataframe\">\n",
       "  <thead>\n",
       "    <tr style=\"text-align: right;\">\n",
       "      <th></th>\n",
       "      <th>item_id</th>\n",
       "      <th>popularity</th>\n",
       "      <th>title</th>\n",
       "      <th>release_date</th>\n",
       "      <th>video_release_date</th>\n",
       "      <th>imdb_url</th>\n",
       "      <th>release_year</th>\n",
       "      <th>user_id</th>\n",
       "      <th>rating</th>\n",
       "      <th>timestamp</th>\n",
       "    </tr>\n",
       "  </thead>\n",
       "  <tbody>\n",
       "    <tr>\n",
       "      <th>0</th>\n",
       "      <td>1</td>\n",
       "      <td>452</td>\n",
       "      <td>Toy Story (1995)</td>\n",
       "      <td>01-Jan-1995</td>\n",
       "      <td>NaN</td>\n",
       "      <td>http://us.imdb.com/M/title-exact?Toy%20Story%2...</td>\n",
       "      <td>1995</td>\n",
       "      <td>308</td>\n",
       "      <td>4</td>\n",
       "      <td>887736532</td>\n",
       "    </tr>\n",
       "    <tr>\n",
       "      <th>1</th>\n",
       "      <td>1</td>\n",
       "      <td>452</td>\n",
       "      <td>Toy Story (1995)</td>\n",
       "      <td>01-Jan-1995</td>\n",
       "      <td>NaN</td>\n",
       "      <td>http://us.imdb.com/M/title-exact?Toy%20Story%2...</td>\n",
       "      <td>1995</td>\n",
       "      <td>287</td>\n",
       "      <td>5</td>\n",
       "      <td>875334088</td>\n",
       "    </tr>\n",
       "    <tr>\n",
       "      <th>2</th>\n",
       "      <td>1</td>\n",
       "      <td>452</td>\n",
       "      <td>Toy Story (1995)</td>\n",
       "      <td>01-Jan-1995</td>\n",
       "      <td>NaN</td>\n",
       "      <td>http://us.imdb.com/M/title-exact?Toy%20Story%2...</td>\n",
       "      <td>1995</td>\n",
       "      <td>148</td>\n",
       "      <td>4</td>\n",
       "      <td>877019411</td>\n",
       "    </tr>\n",
       "    <tr>\n",
       "      <th>3</th>\n",
       "      <td>1</td>\n",
       "      <td>452</td>\n",
       "      <td>Toy Story (1995)</td>\n",
       "      <td>01-Jan-1995</td>\n",
       "      <td>NaN</td>\n",
       "      <td>http://us.imdb.com/M/title-exact?Toy%20Story%2...</td>\n",
       "      <td>1995</td>\n",
       "      <td>280</td>\n",
       "      <td>4</td>\n",
       "      <td>891700426</td>\n",
       "    </tr>\n",
       "    <tr>\n",
       "      <th>4</th>\n",
       "      <td>1</td>\n",
       "      <td>452</td>\n",
       "      <td>Toy Story (1995)</td>\n",
       "      <td>01-Jan-1995</td>\n",
       "      <td>NaN</td>\n",
       "      <td>http://us.imdb.com/M/title-exact?Toy%20Story%2...</td>\n",
       "      <td>1995</td>\n",
       "      <td>66</td>\n",
       "      <td>3</td>\n",
       "      <td>883601324</td>\n",
       "    </tr>\n",
       "  </tbody>\n",
       "</table>\n",
       "</div>"
      ],
      "text/plain": [
       "   item_id  popularity             title release_date  video_release_date  \\\n",
       "0        1         452  Toy Story (1995)  01-Jan-1995                 NaN   \n",
       "1        1         452  Toy Story (1995)  01-Jan-1995                 NaN   \n",
       "2        1         452  Toy Story (1995)  01-Jan-1995                 NaN   \n",
       "3        1         452  Toy Story (1995)  01-Jan-1995                 NaN   \n",
       "4        1         452  Toy Story (1995)  01-Jan-1995                 NaN   \n",
       "\n",
       "                                            imdb_url  release_year  user_id  \\\n",
       "0  http://us.imdb.com/M/title-exact?Toy%20Story%2...          1995      308   \n",
       "1  http://us.imdb.com/M/title-exact?Toy%20Story%2...          1995      287   \n",
       "2  http://us.imdb.com/M/title-exact?Toy%20Story%2...          1995      148   \n",
       "3  http://us.imdb.com/M/title-exact?Toy%20Story%2...          1995      280   \n",
       "4  http://us.imdb.com/M/title-exact?Toy%20Story%2...          1995       66   \n",
       "\n",
       "   rating  timestamp  \n",
       "0       4  887736532  \n",
       "1       5  875334088  \n",
       "2       4  877019411  \n",
       "3       4  891700426  \n",
       "4       3  883601324  "
      ]
     },
     "execution_count": 62,
     "metadata": {},
     "output_type": "execute_result"
    }
   ],
   "source": [
    "all_ratings.head()"
   ]
  },
  {
   "cell_type": "markdown",
   "id": "56e458dc",
   "metadata": {},
   "source": [
    "Dividimos el dataset en entrenamiento y testeo"
   ]
  },
  {
   "cell_type": "code",
   "execution_count": 63,
   "id": "990aadbe",
   "metadata": {},
   "outputs": [],
   "source": [
    "# Dividimos el dataset\n",
    "ratings_train, ratings_test = train_test_split(\n",
    "    all_ratings, test_size=0.2, random_state=0)\n",
    "\n",
    "# Preparación de los datos para el modelo\n",
    "user_id_train = np.array(ratings_train['user_id'])\n",
    "item_id_train = np.array(ratings_train['item_id'])\n",
    "rating_train = np.array(ratings_train['rating'])\n",
    "\n",
    "# Datos de prueba\n",
    "user_id_test = np.array(ratings_test['user_id'])\n",
    "item_id_test = np.array(ratings_test['item_id'])\n",
    "rating_test = np.array(ratings_test['rating'])"
   ]
  },
  {
   "cell_type": "markdown",
   "id": "64d76781",
   "metadata": {},
   "source": [
    "#### Creamos el modelo de retroalimentación explítica: Predicción de calificaciones supervisada con PyTorch\n",
    "Para cada par de (usuario, ítem) se intenta predecir la calificación que el usuario daría al ítem."
   ]
  },
  {
   "cell_type": "code",
   "execution_count": null,
   "id": "fc22bf54",
   "metadata": {},
   "outputs": [],
   "source": []
  },
  {
   "cell_type": "markdown",
   "id": "4bb7bd77",
   "metadata": {},
   "source": [
    "### Parte 2.2: Transformarlo en un problema de clasificación"
   ]
  }
 ],
 "metadata": {
  "kernelspec": {
   "display_name": "tf_venv",
   "language": "python",
   "name": "python3"
  },
  "language_info": {
   "codemirror_mode": {
    "name": "ipython",
    "version": 3
   },
   "file_extension": ".py",
   "mimetype": "text/x-python",
   "name": "python",
   "nbconvert_exporter": "python",
   "pygments_lexer": "ipython3",
   "version": "3.11.4"
  }
 },
 "nbformat": 4,
 "nbformat_minor": 5
}
