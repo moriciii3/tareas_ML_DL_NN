{
 "cells": [
  {
   "cell_type": "markdown",
   "id": "f3915c95",
   "metadata": {},
   "source": [
    "# Tarea 1 - Introducción a las Redes Neuronales y Deep Learning\n",
    "\n",
    "**Nombre:** Bruno Morici\n",
    "\n",
    "**ROL USM:** 202373555-8\n",
    "\n",
    "**Curso:** INF395, Introducción a las Redes Neuronales y Deep Learning\n",
    "\n",
    "**Profesor:** Alejandro Veloz\n",
    "\n",
    "**Fecha:** 09/09/2025"
   ]
  },
  {
   "cell_type": "markdown",
   "id": "c60c7caa",
   "metadata": {},
   "source": [
    "## Introducción\n",
    "\n",
    "En esta tarea se abordarán tres grandes bloques:\n",
    "\n",
    "I. **Regresión lineal y regularización.**  \n",
    "II. **Descubrimiento causal usando modelos VAR.**  \n",
    "III. **Red neuronal feedforward.**\n",
    "\n",
    "A continuación se presenta la organización del trabajo y los resultados obtenidos."
   ]
  },
  {
   "cell_type": "markdown",
   "id": "aa79e1b8",
   "metadata": {},
   "source": [
    "# Parte I: Regresión lineal y regularización"
   ]
  },
  {
   "cell_type": "code",
   "execution_count": 4,
   "id": "7389573a",
   "metadata": {},
   "outputs": [
    {
     "name": "stdout",
     "output_type": "stream",
     "text": [
      "Requirement already satisfied: ucimlrepo in c:\\users\\bruno\\appdata\\local\\packages\\pythonsoftwarefoundation.python.3.10_qbz5n2kfra8p0\\localcache\\local-packages\\python310\\site-packages (0.0.7)\n",
      "Requirement already satisfied: pandas>=1.0.0 in c:\\users\\bruno\\appdata\\local\\packages\\pythonsoftwarefoundation.python.3.10_qbz5n2kfra8p0\\localcache\\local-packages\\python310\\site-packages (from ucimlrepo) (2.2.3)\n",
      "Requirement already satisfied: certifi>=2020.12.5 in c:\\users\\bruno\\appdata\\local\\packages\\pythonsoftwarefoundation.python.3.10_qbz5n2kfra8p0\\localcache\\local-packages\\python310\\site-packages (from ucimlrepo) (2022.12.7)\n",
      "Requirement already satisfied: numpy>=1.22.4 in c:\\users\\bruno\\appdata\\local\\packages\\pythonsoftwarefoundation.python.3.10_qbz5n2kfra8p0\\localcache\\local-packages\\python310\\site-packages (from pandas>=1.0.0->ucimlrepo) (1.24.1)\n",
      "Requirement already satisfied: python-dateutil>=2.8.2 in c:\\users\\bruno\\appdata\\local\\packages\\pythonsoftwarefoundation.python.3.10_qbz5n2kfra8p0\\localcache\\local-packages\\python310\\site-packages (from pandas>=1.0.0->ucimlrepo) (2.8.2)\n",
      "Requirement already satisfied: pytz>=2020.1 in c:\\users\\bruno\\appdata\\local\\packages\\pythonsoftwarefoundation.python.3.10_qbz5n2kfra8p0\\localcache\\local-packages\\python310\\site-packages (from pandas>=1.0.0->ucimlrepo) (2025.2)\n",
      "Requirement already satisfied: tzdata>=2022.7 in c:\\users\\bruno\\appdata\\local\\packages\\pythonsoftwarefoundation.python.3.10_qbz5n2kfra8p0\\localcache\\local-packages\\python310\\site-packages (from pandas>=1.0.0->ucimlrepo) (2023.3)\n",
      "Requirement already satisfied: six>=1.5 in c:\\users\\bruno\\appdata\\local\\packages\\pythonsoftwarefoundation.python.3.10_qbz5n2kfra8p0\\localcache\\local-packages\\python310\\site-packages (from python-dateutil>=2.8.2->pandas>=1.0.0->ucimlrepo) (1.16.0)\n",
      "Note: you may need to restart the kernel to use updated packages.\n"
     ]
    },
    {
     "name": "stderr",
     "output_type": "stream",
     "text": [
      "\n",
      "[notice] A new release of pip is available: 23.2.1 -> 25.2\n",
      "[notice] To update, run: C:\\Users\\Bruno\\AppData\\Local\\Microsoft\\WindowsApps\\PythonSoftwareFoundation.Python.3.10_qbz5n2kfra8p0\\python.exe -m pip install --upgrade pip\n"
     ]
    },
    {
     "name": "stdout",
     "output_type": "stream",
     "text": [
      "Requirement already satisfied: scikit-learn in c:\\users\\bruno\\appdata\\local\\packages\\pythonsoftwarefoundation.python.3.10_qbz5n2kfra8p0\\localcache\\local-packages\\python310\\site-packages (1.7.2)\n",
      "Requirement already satisfied: numpy>=1.22.0 in c:\\users\\bruno\\appdata\\local\\packages\\pythonsoftwarefoundation.python.3.10_qbz5n2kfra8p0\\localcache\\local-packages\\python310\\site-packages (from scikit-learn) (1.24.1)\n",
      "Requirement already satisfied: scipy>=1.8.0 in c:\\users\\bruno\\appdata\\local\\packages\\pythonsoftwarefoundation.python.3.10_qbz5n2kfra8p0\\localcache\\local-packages\\python310\\site-packages (from scikit-learn) (1.15.2)\n",
      "Requirement already satisfied: joblib>=1.2.0 in c:\\users\\bruno\\appdata\\local\\packages\\pythonsoftwarefoundation.python.3.10_qbz5n2kfra8p0\\localcache\\local-packages\\python310\\site-packages (from scikit-learn) (1.5.2)\n",
      "Requirement already satisfied: threadpoolctl>=3.1.0 in c:\\users\\bruno\\appdata\\local\\packages\\pythonsoftwarefoundation.python.3.10_qbz5n2kfra8p0\\localcache\\local-packages\\python310\\site-packages (from scikit-learn) (3.6.0)\n",
      "Note: you may need to restart the kernel to use updated packages.\n"
     ]
    },
    {
     "name": "stderr",
     "output_type": "stream",
     "text": [
      "\n",
      "[notice] A new release of pip is available: 23.2.1 -> 25.2\n",
      "[notice] To update, run: C:\\Users\\Bruno\\AppData\\Local\\Microsoft\\WindowsApps\\PythonSoftwareFoundation.Python.3.10_qbz5n2kfra8p0\\python.exe -m pip install --upgrade pip\n"
     ]
    }
   ],
   "source": [
    "%pip install ucimlrepo\n",
    "%pip install scikit-learn"
   ]
  },
  {
   "cell_type": "code",
   "execution_count": 5,
   "id": "9b9a9f08",
   "metadata": {},
   "outputs": [],
   "source": [
    "import numpy as np\n",
    "import pandas as pd\n",
    "import matplotlib.pyplot as plt\n",
    "\n",
    "from IPython.display import display, Math\n",
    "\n",
    "from ucimlrepo import fetch_ucirepo \n",
    "from sklearn.model_selection import train_test_split\n",
    "from sklearn.linear_model import LinearRegression\n",
    "from sklearn.linear_model import Lasso"
   ]
  },
  {
   "cell_type": "code",
   "execution_count": 6,
   "id": "52bb247d",
   "metadata": {},
   "outputs": [
    {
     "name": "stdout",
     "output_type": "stream",
     "text": [
      "{'uci_id': 1, 'name': 'Abalone', 'repository_url': 'https://archive.ics.uci.edu/dataset/1/abalone', 'data_url': 'https://archive.ics.uci.edu/static/public/1/data.csv', 'abstract': 'Predict the age of abalone from physical measurements', 'area': 'Biology', 'tasks': ['Classification', 'Regression'], 'characteristics': ['Tabular'], 'num_instances': 4177, 'num_features': 8, 'feature_types': ['Categorical', 'Integer', 'Real'], 'demographics': [], 'target_col': ['Rings'], 'index_col': None, 'has_missing_values': 'no', 'missing_values_symbol': None, 'year_of_dataset_creation': 1994, 'last_updated': 'Mon Aug 28 2023', 'dataset_doi': '10.24432/C55C7W', 'creators': ['Warwick Nash', 'Tracy Sellers', 'Simon Talbot', 'Andrew Cawthorn', 'Wes Ford'], 'intro_paper': None, 'additional_info': {'summary': 'Predicting the age of abalone from physical measurements.  The age of abalone is determined by cutting the shell through the cone, staining it, and counting the number of rings through a microscope -- a boring and time-consuming task.  Other measurements, which are easier to obtain, are used to predict the age.  Further information, such as weather patterns and location (hence food availability) may be required to solve the problem.\\r\\n\\r\\nFrom the original data examples with missing values were removed (the majority having the predicted value missing), and the ranges of the continuous values have been scaled for use with an ANN (by dividing by 200).', 'purpose': None, 'funded_by': None, 'instances_represent': None, 'recommended_data_splits': None, 'sensitive_data': None, 'preprocessing_description': None, 'variable_info': 'Given is the attribute name, attribute type, the measurement unit and a brief description.  The number of rings is the value to predict: either as a continuous value or as a classification problem.\\r\\n\\r\\nName / Data Type / Measurement Unit / Description\\r\\n-----------------------------\\r\\nSex / nominal / -- / M, F, and I (infant)\\r\\nLength / continuous / mm / Longest shell measurement\\r\\nDiameter\\t/ continuous / mm / perpendicular to length\\r\\nHeight / continuous / mm / with meat in shell\\r\\nWhole weight / continuous / grams / whole abalone\\r\\nShucked weight / continuous\\t / grams / weight of meat\\r\\nViscera weight / continuous / grams / gut weight (after bleeding)\\r\\nShell weight / continuous / grams / after being dried\\r\\nRings / integer / -- / +1.5 gives the age in years\\r\\n\\r\\nThe readme file contains attribute statistics.', 'citation': None}}\n",
      "             name     role         type demographic  \\\n",
      "0             Sex  Feature  Categorical        None   \n",
      "1          Length  Feature   Continuous        None   \n",
      "2        Diameter  Feature   Continuous        None   \n",
      "3          Height  Feature   Continuous        None   \n",
      "4    Whole_weight  Feature   Continuous        None   \n",
      "5  Shucked_weight  Feature   Continuous        None   \n",
      "6  Viscera_weight  Feature   Continuous        None   \n",
      "7    Shell_weight  Feature   Continuous        None   \n",
      "8           Rings   Target      Integer        None   \n",
      "\n",
      "                   description  units missing_values  \n",
      "0         M, F, and I (infant)   None             no  \n",
      "1    Longest shell measurement     mm             no  \n",
      "2      perpendicular to length     mm             no  \n",
      "3           with meat in shell     mm             no  \n",
      "4                whole abalone  grams             no  \n",
      "5               weight of meat  grams             no  \n",
      "6  gut weight (after bleeding)  grams             no  \n",
      "7            after being dried  grams             no  \n",
      "8  +1.5 gives the age in years   None             no  \n"
     ]
    }
   ],
   "source": [
    "# fetch dataset \n",
    "dataset = fetch_ucirepo(id=1) # abalone dataset\n",
    "# metadata \n",
    "print(dataset.metadata)\n",
    "# variable information \n",
    "print(dataset.variables)"
   ]
  },
  {
   "cell_type": "code",
   "execution_count": 7,
   "id": "980952fc",
   "metadata": {},
   "outputs": [
    {
     "name": "stdout",
     "output_type": "stream",
     "text": [
      "(4177, 8) (4177, 1)\n"
     ]
    }
   ],
   "source": [
    "# data (as pandas dataframes) \n",
    "X = dataset.data.features \n",
    "y = dataset.data.targets\n",
    "print(X.shape, y.shape)"
   ]
  },
  {
   "cell_type": "code",
   "execution_count": 8,
   "id": "72f03fd6",
   "metadata": {},
   "outputs": [
    {
     "data": {
      "text/html": [
       "<div>\n",
       "<style scoped>\n",
       "    .dataframe tbody tr th:only-of-type {\n",
       "        vertical-align: middle;\n",
       "    }\n",
       "\n",
       "    .dataframe tbody tr th {\n",
       "        vertical-align: top;\n",
       "    }\n",
       "\n",
       "    .dataframe thead th {\n",
       "        text-align: right;\n",
       "    }\n",
       "</style>\n",
       "<table border=\"1\" class=\"dataframe\">\n",
       "  <thead>\n",
       "    <tr style=\"text-align: right;\">\n",
       "      <th></th>\n",
       "      <th>Sex</th>\n",
       "      <th>Length</th>\n",
       "      <th>Diameter</th>\n",
       "      <th>Height</th>\n",
       "      <th>Whole_weight</th>\n",
       "      <th>Shucked_weight</th>\n",
       "      <th>Viscera_weight</th>\n",
       "      <th>Shell_weight</th>\n",
       "    </tr>\n",
       "  </thead>\n",
       "  <tbody>\n",
       "    <tr>\n",
       "      <th>0</th>\n",
       "      <td>M</td>\n",
       "      <td>0.455</td>\n",
       "      <td>0.365</td>\n",
       "      <td>0.095</td>\n",
       "      <td>0.5140</td>\n",
       "      <td>0.2245</td>\n",
       "      <td>0.1010</td>\n",
       "      <td>0.150</td>\n",
       "    </tr>\n",
       "    <tr>\n",
       "      <th>1</th>\n",
       "      <td>M</td>\n",
       "      <td>0.350</td>\n",
       "      <td>0.265</td>\n",
       "      <td>0.090</td>\n",
       "      <td>0.2255</td>\n",
       "      <td>0.0995</td>\n",
       "      <td>0.0485</td>\n",
       "      <td>0.070</td>\n",
       "    </tr>\n",
       "    <tr>\n",
       "      <th>2</th>\n",
       "      <td>F</td>\n",
       "      <td>0.530</td>\n",
       "      <td>0.420</td>\n",
       "      <td>0.135</td>\n",
       "      <td>0.6770</td>\n",
       "      <td>0.2565</td>\n",
       "      <td>0.1415</td>\n",
       "      <td>0.210</td>\n",
       "    </tr>\n",
       "    <tr>\n",
       "      <th>3</th>\n",
       "      <td>M</td>\n",
       "      <td>0.440</td>\n",
       "      <td>0.365</td>\n",
       "      <td>0.125</td>\n",
       "      <td>0.5160</td>\n",
       "      <td>0.2155</td>\n",
       "      <td>0.1140</td>\n",
       "      <td>0.155</td>\n",
       "    </tr>\n",
       "    <tr>\n",
       "      <th>4</th>\n",
       "      <td>I</td>\n",
       "      <td>0.330</td>\n",
       "      <td>0.255</td>\n",
       "      <td>0.080</td>\n",
       "      <td>0.2050</td>\n",
       "      <td>0.0895</td>\n",
       "      <td>0.0395</td>\n",
       "      <td>0.055</td>\n",
       "    </tr>\n",
       "  </tbody>\n",
       "</table>\n",
       "</div>"
      ],
      "text/plain": [
       "  Sex  Length  Diameter  Height  Whole_weight  Shucked_weight  Viscera_weight  \\\n",
       "0   M   0.455     0.365   0.095        0.5140          0.2245          0.1010   \n",
       "1   M   0.350     0.265   0.090        0.2255          0.0995          0.0485   \n",
       "2   F   0.530     0.420   0.135        0.6770          0.2565          0.1415   \n",
       "3   M   0.440     0.365   0.125        0.5160          0.2155          0.1140   \n",
       "4   I   0.330     0.255   0.080        0.2050          0.0895          0.0395   \n",
       "\n",
       "   Shell_weight  \n",
       "0         0.150  \n",
       "1         0.070  \n",
       "2         0.210  \n",
       "3         0.155  \n",
       "4         0.055  "
      ]
     },
     "execution_count": 8,
     "metadata": {},
     "output_type": "execute_result"
    }
   ],
   "source": [
    "X.head()"
   ]
  },
  {
   "cell_type": "code",
   "execution_count": 9,
   "id": "2603ada6",
   "metadata": {},
   "outputs": [
    {
     "data": {
      "text/html": [
       "<div>\n",
       "<style scoped>\n",
       "    .dataframe tbody tr th:only-of-type {\n",
       "        vertical-align: middle;\n",
       "    }\n",
       "\n",
       "    .dataframe tbody tr th {\n",
       "        vertical-align: top;\n",
       "    }\n",
       "\n",
       "    .dataframe thead th {\n",
       "        text-align: right;\n",
       "    }\n",
       "</style>\n",
       "<table border=\"1\" class=\"dataframe\">\n",
       "  <thead>\n",
       "    <tr style=\"text-align: right;\">\n",
       "      <th></th>\n",
       "      <th>Rings</th>\n",
       "    </tr>\n",
       "  </thead>\n",
       "  <tbody>\n",
       "    <tr>\n",
       "      <th>0</th>\n",
       "      <td>15</td>\n",
       "    </tr>\n",
       "    <tr>\n",
       "      <th>1</th>\n",
       "      <td>7</td>\n",
       "    </tr>\n",
       "    <tr>\n",
       "      <th>2</th>\n",
       "      <td>9</td>\n",
       "    </tr>\n",
       "    <tr>\n",
       "      <th>3</th>\n",
       "      <td>10</td>\n",
       "    </tr>\n",
       "    <tr>\n",
       "      <th>4</th>\n",
       "      <td>7</td>\n",
       "    </tr>\n",
       "  </tbody>\n",
       "</table>\n",
       "</div>"
      ],
      "text/plain": [
       "   Rings\n",
       "0     15\n",
       "1      7\n",
       "2      9\n",
       "3     10\n",
       "4      7"
      ]
     },
     "execution_count": 9,
     "metadata": {},
     "output_type": "execute_result"
    }
   ],
   "source": [
    "y.head()"
   ]
  },
  {
   "cell_type": "code",
   "execution_count": 10,
   "id": "75e0b733",
   "metadata": {},
   "outputs": [
    {
     "data": {
      "text/html": [
       "<div>\n",
       "<style scoped>\n",
       "    .dataframe tbody tr th:only-of-type {\n",
       "        vertical-align: middle;\n",
       "    }\n",
       "\n",
       "    .dataframe tbody tr th {\n",
       "        vertical-align: top;\n",
       "    }\n",
       "\n",
       "    .dataframe thead th {\n",
       "        text-align: right;\n",
       "    }\n",
       "</style>\n",
       "<table border=\"1\" class=\"dataframe\">\n",
       "  <thead>\n",
       "    <tr style=\"text-align: right;\">\n",
       "      <th></th>\n",
       "      <th>Length</th>\n",
       "      <th>Diameter</th>\n",
       "      <th>Height</th>\n",
       "      <th>Whole_weight</th>\n",
       "      <th>Shucked_weight</th>\n",
       "      <th>Viscera_weight</th>\n",
       "      <th>Shell_weight</th>\n",
       "      <th>Sex_F</th>\n",
       "      <th>Sex_I</th>\n",
       "      <th>Sex_M</th>\n",
       "    </tr>\n",
       "  </thead>\n",
       "  <tbody>\n",
       "    <tr>\n",
       "      <th>0</th>\n",
       "      <td>0.455</td>\n",
       "      <td>0.365</td>\n",
       "      <td>0.095</td>\n",
       "      <td>0.5140</td>\n",
       "      <td>0.2245</td>\n",
       "      <td>0.1010</td>\n",
       "      <td>0.150</td>\n",
       "      <td>False</td>\n",
       "      <td>False</td>\n",
       "      <td>True</td>\n",
       "    </tr>\n",
       "    <tr>\n",
       "      <th>1</th>\n",
       "      <td>0.350</td>\n",
       "      <td>0.265</td>\n",
       "      <td>0.090</td>\n",
       "      <td>0.2255</td>\n",
       "      <td>0.0995</td>\n",
       "      <td>0.0485</td>\n",
       "      <td>0.070</td>\n",
       "      <td>False</td>\n",
       "      <td>False</td>\n",
       "      <td>True</td>\n",
       "    </tr>\n",
       "    <tr>\n",
       "      <th>2</th>\n",
       "      <td>0.530</td>\n",
       "      <td>0.420</td>\n",
       "      <td>0.135</td>\n",
       "      <td>0.6770</td>\n",
       "      <td>0.2565</td>\n",
       "      <td>0.1415</td>\n",
       "      <td>0.210</td>\n",
       "      <td>True</td>\n",
       "      <td>False</td>\n",
       "      <td>False</td>\n",
       "    </tr>\n",
       "    <tr>\n",
       "      <th>3</th>\n",
       "      <td>0.440</td>\n",
       "      <td>0.365</td>\n",
       "      <td>0.125</td>\n",
       "      <td>0.5160</td>\n",
       "      <td>0.2155</td>\n",
       "      <td>0.1140</td>\n",
       "      <td>0.155</td>\n",
       "      <td>False</td>\n",
       "      <td>False</td>\n",
       "      <td>True</td>\n",
       "    </tr>\n",
       "    <tr>\n",
       "      <th>4</th>\n",
       "      <td>0.330</td>\n",
       "      <td>0.255</td>\n",
       "      <td>0.080</td>\n",
       "      <td>0.2050</td>\n",
       "      <td>0.0895</td>\n",
       "      <td>0.0395</td>\n",
       "      <td>0.055</td>\n",
       "      <td>False</td>\n",
       "      <td>True</td>\n",
       "      <td>False</td>\n",
       "    </tr>\n",
       "  </tbody>\n",
       "</table>\n",
       "</div>"
      ],
      "text/plain": [
       "   Length  Diameter  Height  Whole_weight  Shucked_weight  Viscera_weight  \\\n",
       "0   0.455     0.365   0.095        0.5140          0.2245          0.1010   \n",
       "1   0.350     0.265   0.090        0.2255          0.0995          0.0485   \n",
       "2   0.530     0.420   0.135        0.6770          0.2565          0.1415   \n",
       "3   0.440     0.365   0.125        0.5160          0.2155          0.1140   \n",
       "4   0.330     0.255   0.080        0.2050          0.0895          0.0395   \n",
       "\n",
       "   Shell_weight  Sex_F  Sex_I  Sex_M  \n",
       "0         0.150  False  False   True  \n",
       "1         0.070  False  False   True  \n",
       "2         0.210   True  False  False  \n",
       "3         0.155  False  False   True  \n",
       "4         0.055  False   True  False  "
      ]
     },
     "execution_count": 10,
     "metadata": {},
     "output_type": "execute_result"
    }
   ],
   "source": [
    "# Convert categorical 'Sex' using get_dummies()\n",
    "X = pd.get_dummies(X)\n",
    "X.head()"
   ]
  },
  {
   "cell_type": "code",
   "execution_count": 11,
   "id": "848ef66a",
   "metadata": {},
   "outputs": [
    {
     "name": "stdout",
     "output_type": "stream",
     "text": [
      "Samples for training: 2672\n",
      "Samples for validation: 669\n",
      "Samples for testing: 836\n"
     ]
    }
   ],
   "source": [
    "# Convert to numpy arrays\n",
    "X_np = X.to_numpy().astype('float')\n",
    "y_np = y.to_numpy().flatten()\n",
    "\n",
    "# Split into train and test sets\n",
    "X_train, X_test, y_train, y_test = train_test_split(X_np, y_np, test_size=0.2, random_state=42)\n",
    "X_train, X_val, y_train, y_val = train_test_split(X_train, y_train, test_size=0.2, random_state=42)\n",
    "\n",
    "print(f'Samples for training: {X_train.shape[0]}')\n",
    "print(f'Samples for validation: {X_val.shape[0]}')\n",
    "print(f'Samples for testing: {X_test.shape[0]}')"
   ]
  },
  {
   "cell_type": "code",
   "execution_count": 12,
   "id": "f0bdc334",
   "metadata": {},
   "outputs": [
    {
     "name": "stdout",
     "output_type": "stream",
     "text": [
      "Test R^2: 0.545\n",
      "Coefficients: [ -1.02217201   8.83603361  24.35454601   8.94974547 -20.65659391\n",
      "  -9.05850108   7.59042072   0.19513526  -0.50004446   0.3049092 ]\n"
     ]
    }
   ],
   "source": [
    "# Fit regression model\n",
    "model = LinearRegression()\n",
    "model.fit(X_train, y_train) # Entrena el modelo\n",
    "\n",
    "# Evaluate\n",
    "score = model.score(X_test, y_test) # Que porcentaje de la variabilidad de los datos es explicada por el modelo entrenado\n",
    "print(f\"Test R^2: {score:.3f}\")\n",
    "print(\"Coefficients:\", model.coef_) # Coeficientes o theta's del entrenamiento, es decir, no de la solucion analitica"
   ]
  },
  {
   "cell_type": "code",
   "execution_count": 13,
   "id": "6095e77a",
   "metadata": {},
   "outputs": [
    {
     "data": {
      "text/latex": [
       "$\\displaystyle \\theta = (X^T X)^{-1} X^T y$"
      ],
      "text/plain": [
       "<IPython.core.display.Math object>"
      ]
     },
     "metadata": {},
     "output_type": "display_data"
    },
    {
     "name": "stdout",
     "output_type": "stream",
     "text": [
      "[ -1.02217201   8.83603361  24.35454601   8.94974547 -20.65659391\n",
      "  -9.05850108   7.59042072   3.52040712   2.8252274    3.63018107]\n"
     ]
    }
   ],
   "source": [
    "# Obtenemos numero de muestras de cada conjunto (entrenamiento, validacion y testeo)\n",
    "N_train = X_train.shape[0]\n",
    "N_val = X_val.shape[0]\n",
    "N_test = X_test.shape[0]\n",
    "\n",
    "theta = np.random.rand(X_train.shape[1]) # Inicializamos los pesos de la regresion de forma aleatoria\n",
    "eta = 1e-5 # Tasa de aprendizaje para el descenso de gradiente\n",
    "nepochs = 10000 # Numero de iteraciones del entrenamiento\n",
    "\n",
    "# Definimos los errores cuadraticos medios\n",
    "mse_train = []\n",
    "mse_val = []\n",
    "\n",
    "# Iteramos para entrenar\n",
    "for epoch in range(nepochs + 1):\n",
    "    # Actualizamos theta haciendo uso del descenso de gradiente\n",
    "    # OBS: Descenso de gradiente estocástico (sin sumatoria) (diapositiva 18 de modelos lineales)\n",
    "    theta = theta + eta * X_train.T @ (y_train - X_train @ theta) # OBS: el @ es producto de matrices\n",
    "\n",
    "    # Calculamos los ECM y los ponemos en las listas\n",
    "    mse_train.append((1/N_train) * np.linalg.norm(y_train - X_train @ theta)**2)\n",
    "    mse_val.append((1/N_val) * np.linalg.norm(y_val - X_val @ theta)**2)\n",
    "\n",
    "# Solucion analitica\n",
    "# OBS: Si derivamos el ECM y lo igualamos a cero, se obtiene una formula con el vector X y el vector THETA, de ahi se puede despejar THETA obteniendo una solucion analitica\n",
    "\n",
    "# Fórmula de la solución analítica de mínimos cuadrados\n",
    "display(Math(r'\\theta = (X^T X)^{-1} X^T y'))\n",
    "\n",
    "theta_analytical = np.linalg.inv(X_train.T @ X_train) @ X_train.T @ y_train\n",
    "print(theta_analytical)\n",
    "mse_analytical_train = (1/N_train) * np.linalg.norm(y_train - X_train @ theta_analytical)**2\n",
    "mse_analytical_val = (1/N_val) * np.linalg.norm(y_val - X_val @ theta_analytical)**2"
   ]
  },
  {
   "cell_type": "markdown",
   "id": "52b7556c",
   "metadata": {},
   "source": [
    "Nota: La solución analítica (theta_analytical) y la solución de coeficientes al ajustar la Regresión Lineal deberían dar la misma solución, ya que se trabaja sobre el mismo conjunto de datos de entrenamiento.\n",
    "\n",
    "Podría haber variación debido a ignorar el bias en la solución analítica"
   ]
  },
  {
   "cell_type": "code",
   "execution_count": 14,
   "id": "f18ff175",
   "metadata": {},
   "outputs": [
    {
     "data": {
      "image/png": "[encoded data removed]",
      "text/plain": [
       "<Figure size 640x480 with 1 Axes>"
      ]
     },
     "metadata": {},
     "output_type": "display_data"
    }
   ],
   "source": [
    "# Hacemos un grafico mostrando como el Error va disminuyendo en cada iteracion tanto para entrenamiento como para validacion\n",
    "plt.plot(mse_train, label='MSE train', color='blue')\n",
    "plt.axhline(y=mse_analytical_train, xmin=0, xmax=1, color='blue')\n",
    "plt.plot(mse_val, label='MSE validation', color='orange')\n",
    "plt.axhline(y=mse_analytical_val, xmin=0, xmax=1, color='orange')\n",
    "plt.xlabel('Epoch')\n",
    "plt.ylabel('Loss')\n",
    "plt.legend()\n",
    "plt.show()"
   ]
  },
  {
   "cell_type": "markdown",
   "id": "f25e6c84",
   "metadata": {},
   "source": [
    "### Implementación de Lasso para determinar importancia de las variables"
   ]
  },
  {
   "cell_type": "code",
   "execution_count": 15,
   "id": "3fe2f3ad",
   "metadata": {},
   "outputs": [
    {
     "data": {
      "text/latex": [
       "$\\displaystyle E(\\theta) = \\frac{1}{2N} \\sum_{i=1}^{N} \\Big(y_i - \\sum_{j=1}^{d} X_{ij} \\theta_j \\Big)^2 + \\alpha \\sum_{j=1}^{d} |\\theta_j|$"
      ],
      "text/plain": [
       "<IPython.core.display.Math object>"
      ]
     },
     "metadata": {},
     "output_type": "display_data"
    },
    {
     "data": {
      "text/latex": [
       "$\\displaystyle \\theta^{(k+1)} = \\theta^{(k)} + \\frac{\\eta}{N} X^T (Y - X \\theta^{(k)}) - \\eta \\, \\alpha \\, \\mathrm{sign}(\\theta^{(k)})$"
      ],
      "text/plain": [
       "<IPython.core.display.Math object>"
      ]
     },
     "metadata": {},
     "output_type": "display_data"
    }
   ],
   "source": [
    "# Formula del error de datos + regularizacion\n",
    "display(Math(r'E(\\theta) = \\frac{1}{2N} \\sum_{i=1}^{N} \\Big(y_i - \\sum_{j=1}^{d} X_{ij} \\theta_j \\Big)^2 + \\alpha \\sum_{j=1}^{d} |\\theta_j|'))\n",
    "\n",
    "# Formula de minimo error de datos y minimo error de regularizacion (la derivada de la anterior)\n",
    "## Esta se usa en la implemetacion de forma directa\n",
    "display(Math(r'\\theta^{(k+1)} = \\theta^{(k)} + \\frac{\\eta}{N} X^T (Y - X \\theta^{(k)}) - \\eta \\, \\alpha \\, \\mathrm{sign}(\\theta^{(k)})'))"
   ]
  },
  {
   "cell_type": "code",
   "execution_count": 16,
   "id": "11e5be33",
   "metadata": {},
   "outputs": [],
   "source": [
    "# Creacion propia de Lasso\n",
    "class MyLasso():\n",
    "    # Constructor\n",
    "    def __init__(self, alpha=0.1, eta=1e-5, n_epochs=10000):\n",
    "        self.alpha = alpha      # lambda de regularización\n",
    "        self.eta = eta          # tasa de aprendizaje\n",
    "        self.n_epochs = n_epochs\n",
    "\n",
    "    # OBS: Debido a la funcion valor absoluto presente en Lasso, no es diferenciable en 0 para theta, resolvemos eso con np.sign()\n",
    "        \n",
    "    # Resolvemos modelo mediante iteraciones, tal como hacen al sacar solucion analitica previamente\n",
    "    def fit(self, X, Y):\n",
    "        N = X.shape[0]\n",
    "        d = X.shape[1]\n",
    "\n",
    "        self.coef_ = np.random.rand(d) # Inicializamos los coeficientes de forma aleatoria\n",
    "\n",
    "        # Iteramos para entrenar, minimizando el error de los coeficientes\n",
    "        for _ in range(self.n_epochs + 1):\n",
    "            data_term = (self.eta/N) * X.T @ (Y - X @ self.coef_)\n",
    "            regularization_term = self.eta * self.alpha * np.sign(self.coef_)\n",
    "            self.coef_ += data_term - regularization_term # Formula mencionada anteriormente\n",
    "\n",
    "        return self\n",
    "        \n",
    "    # Funcion que retorna resultados de las predicciones\n",
    "    # Recibe una matriz de features y la multiplica por los coeficientes, entregando una prediccion (target)\n",
    "    def predict(self, X):\n",
    "        return X @ self.coef_"
   ]
  },
  {
   "cell_type": "code",
   "execution_count": 17,
   "id": "9b043654",
   "metadata": {},
   "outputs": [
    {
     "data": {
      "text/html": [
       "<div>\n",
       "<style scoped>\n",
       "    .dataframe tbody tr th:only-of-type {\n",
       "        vertical-align: middle;\n",
       "    }\n",
       "\n",
       "    .dataframe tbody tr th {\n",
       "        vertical-align: top;\n",
       "    }\n",
       "\n",
       "    .dataframe thead th {\n",
       "        text-align: right;\n",
       "    }\n",
       "</style>\n",
       "<table border=\"1\" class=\"dataframe\">\n",
       "  <thead>\n",
       "    <tr style=\"text-align: right;\">\n",
       "      <th></th>\n",
       "      <th>Variable</th>\n",
       "      <th>Coef_sklearn</th>\n",
       "      <th>Importancia_sklearn</th>\n",
       "      <th>Coef_MyLasso</th>\n",
       "      <th>Importancia_MyLasso</th>\n",
       "    </tr>\n",
       "  </thead>\n",
       "  <tbody>\n",
       "    <tr>\n",
       "      <th>0</th>\n",
       "      <td>X0</td>\n",
       "      <td>0.000000</td>\n",
       "      <td>0.000000</td>\n",
       "      <td>1.280296</td>\n",
       "      <td>1.280296</td>\n",
       "    </tr>\n",
       "    <tr>\n",
       "      <th>1</th>\n",
       "      <td>X1</td>\n",
       "      <td>0.000000</td>\n",
       "      <td>0.000000</td>\n",
       "      <td>0.911929</td>\n",
       "      <td>0.911929</td>\n",
       "    </tr>\n",
       "    <tr>\n",
       "      <th>2</th>\n",
       "      <td>X2</td>\n",
       "      <td>0.000000</td>\n",
       "      <td>0.000000</td>\n",
       "      <td>0.986309</td>\n",
       "      <td>0.986309</td>\n",
       "    </tr>\n",
       "    <tr>\n",
       "      <th>3</th>\n",
       "      <td>X3</td>\n",
       "      <td>2.617422</td>\n",
       "      <td>2.617422</td>\n",
       "      <td>1.489362</td>\n",
       "      <td>1.489362</td>\n",
       "    </tr>\n",
       "    <tr>\n",
       "      <th>4</th>\n",
       "      <td>X4</td>\n",
       "      <td>-0.000000</td>\n",
       "      <td>0.000000</td>\n",
       "      <td>1.033184</td>\n",
       "      <td>1.033184</td>\n",
       "    </tr>\n",
       "    <tr>\n",
       "      <th>5</th>\n",
       "      <td>X5</td>\n",
       "      <td>0.000000</td>\n",
       "      <td>0.000000</td>\n",
       "      <td>1.075890</td>\n",
       "      <td>1.075890</td>\n",
       "    </tr>\n",
       "    <tr>\n",
       "      <th>6</th>\n",
       "      <td>X6</td>\n",
       "      <td>0.000000</td>\n",
       "      <td>0.000000</td>\n",
       "      <td>1.075393</td>\n",
       "      <td>1.075393</td>\n",
       "    </tr>\n",
       "    <tr>\n",
       "      <th>7</th>\n",
       "      <td>X7</td>\n",
       "      <td>0.013899</td>\n",
       "      <td>0.013899</td>\n",
       "      <td>0.874670</td>\n",
       "      <td>0.874670</td>\n",
       "    </tr>\n",
       "    <tr>\n",
       "      <th>8</th>\n",
       "      <td>X8</td>\n",
       "      <td>-0.961786</td>\n",
       "      <td>0.961786</td>\n",
       "      <td>0.251278</td>\n",
       "      <td>0.251278</td>\n",
       "    </tr>\n",
       "    <tr>\n",
       "      <th>9</th>\n",
       "      <td>X9</td>\n",
       "      <td>0.000000</td>\n",
       "      <td>0.000000</td>\n",
       "      <td>0.460265</td>\n",
       "      <td>0.460265</td>\n",
       "    </tr>\n",
       "  </tbody>\n",
       "</table>\n",
       "</div>"
      ],
      "text/plain": [
       "  Variable  Coef_sklearn  Importancia_sklearn  Coef_MyLasso  \\\n",
       "0       X0      0.000000             0.000000      1.280296   \n",
       "1       X1      0.000000             0.000000      0.911929   \n",
       "2       X2      0.000000             0.000000      0.986309   \n",
       "3       X3      2.617422             2.617422      1.489362   \n",
       "4       X4     -0.000000             0.000000      1.033184   \n",
       "5       X5      0.000000             0.000000      1.075890   \n",
       "6       X6      0.000000             0.000000      1.075393   \n",
       "7       X7      0.013899             0.013899      0.874670   \n",
       "8       X8     -0.961786             0.961786      0.251278   \n",
       "9       X9      0.000000             0.000000      0.460265   \n",
       "\n",
       "   Importancia_MyLasso  \n",
       "0             1.280296  \n",
       "1             0.911929  \n",
       "2             0.986309  \n",
       "3             1.489362  \n",
       "4             1.033184  \n",
       "5             1.075890  \n",
       "6             1.075393  \n",
       "7             0.874670  \n",
       "8             0.251278  \n",
       "9             0.460265  "
      ]
     },
     "execution_count": 17,
     "metadata": {},
     "output_type": "execute_result"
    }
   ],
   "source": [
    "# Lasso de SKLearn\n",
    "lasso_model = Lasso(alpha=0.1)\n",
    "lasso_model.fit(X_train, y_train)\n",
    "\n",
    "# Implementacion propia\n",
    "my_lasso_model = MyLasso(alpha=0.1)\n",
    "my_lasso_model.fit(X_train, y_train)\n",
    "\n",
    "# Coeficientes\n",
    "coef_sklearn = lasso_model.coef_\n",
    "coef_my = my_lasso_model.coef_\n",
    "\n",
    "# Crear DataFrame comparativo\n",
    "df = pd.DataFrame({\n",
    "    \"Variable\": [f\"X{i}\" for i in range(len(coef_sklearn))],\n",
    "    \"Coef_sklearn\": coef_sklearn,\n",
    "    \"Importancia_sklearn\": np.abs(coef_sklearn),\n",
    "    \"Coef_MyLasso\": coef_my,\n",
    "    \"Importancia_MyLasso\": np.abs(coef_my)\n",
    "})\n",
    "\n",
    "df # Mostramos"
   ]
  },
  {
   "cell_type": "code",
   "execution_count": 18,
   "id": "4f822cad",
   "metadata": {},
   "outputs": [
    {
     "data": {
      "image/png": "[encoded data removed]",
      "text/plain": [
       "<Figure size 1000x600 with 1 Axes>"
      ]
     },
     "metadata": {},
     "output_type": "display_data"
    }
   ],
   "source": [
    "# Variables\n",
    "vars = df['Variable']\n",
    "x = np.arange(len(vars))\n",
    "\n",
    "# Ancho de las barras\n",
    "width = 0.35\n",
    "\n",
    "# Gráfico comparativo de importancia (valor absoluto)\n",
    "fig, ax = plt.subplots(figsize=(10,6))\n",
    "ax.bar(x - width/2, df['Importancia_sklearn'], width, label='Sklearn Lasso')\n",
    "ax.bar(x + width/2, df['Importancia_MyLasso'], width, label='MyLasso')\n",
    "\n",
    "ax.set_xlabel('Variables')\n",
    "ax.set_ylabel('Importancia |coef|')\n",
    "ax.set_title('Comparación de importancia de variables')\n",
    "ax.set_xticks(x)\n",
    "ax.set_xticklabels(vars)\n",
    "ax.legend()\n",
    "plt.show()"
   ]
  },
  {
   "cell_type": "markdown",
   "id": "66398360",
   "metadata": {},
   "source": [
    "# Parte II: Descubrimiento causal usando modelos VAR"
   ]
  },
  {
   "cell_type": "code",
   "execution_count": 19,
   "id": "d7a62ec1",
   "metadata": {},
   "outputs": [],
   "source": [
    "import numpy as np\n",
    "import matplotlib.pyplot as plt\n",
    "from sklearn.linear_model import LinearRegression, Lasso, Ridge"
   ]
  },
  {
   "cell_type": "code",
   "execution_count": 20,
   "id": "4fad4580",
   "metadata": {},
   "outputs": [
    {
     "data": {
      "image/png": "[encoded data removed]",
      "text/plain": [
       "<Figure size 640x480 with 10 Axes>"
      ]
     },
     "metadata": {},
     "output_type": "display_data"
    },
    {
     "data": {
      "image/png": "[encoded data removed]",
      "text/plain": [
       "<Figure size 640x480 with 1 Axes>"
      ]
     },
     "metadata": {},
     "output_type": "display_data"
    }
   ],
   "source": [
    "# --- Parametros del modelo ---\n",
    "N = 1000\n",
    "N_nds = 10\n",
    "p = 3\n",
    "X = np.zeros((N, N_nds))\n",
    "A = np.zeros((N_nds, N_nds, p))\n",
    "\n",
    "# --- Matriz de conexiones ---\n",
    "conexiones = np.zeros((N_nds, N_nds))\n",
    "conexiones[0, 3] = 1\n",
    "conexiones[1, 0] = 1\n",
    "conexiones[2, 1] = 1\n",
    "conexiones[3, 2] = 1\n",
    "conexiones[4, 1] = 1\n",
    "conexiones[5, 8] = 1\n",
    "conexiones[7, 0] = 1\n",
    "conexiones[9, 6] = 1\n",
    "conexiones[2, 7] = 1\n",
    "conexiones[8, 3] = 1\n",
    "conexiones[6, 4] = 1\n",
    "conexiones[1, 9] = 1\n",
    "conexiones[5, 2] = 1\n",
    "conexiones[0, 8] = 1\n",
    "\n",
    "# --- Generacion de coeficientes A segun la matriz de conexiones ---\n",
    "std_mattrans = 0.2\n",
    "for j in range(p):\n",
    "    for i in range(N_nds):\n",
    "        for k in range(N_nds):\n",
    "            if conexiones[i, k] == 1:\n",
    "                A[i, k, j] = std_mattrans * np.random.randn()\n",
    "\n",
    "# --- Generacion de los datos segun el modelo VAR ---\n",
    "std_datos = 0.1\n",
    "for t in range(p, N):\n",
    "    X[t, :] = std_datos * np.random.randn(N_nds) # Inicializacion en cero\n",
    "    for j in range(p):\n",
    "        X[t, :] += A[:, :, j] @ X[t-j-1, :] # Entrenamiento con VAR\n",
    "\n",
    "# --- Visualizacion de las series ---\n",
    "fig, axs = plt.subplots(nrows = N_nds, ncols = 1)\n",
    "for nd in range(N_nds):\n",
    "    axs[ nd ].plot( X[:, nd] )\n",
    "plt.show()\n",
    "\n",
    "# --- Matriz de adyacencia real (1 si hay conexion) ---\n",
    "A_ = np.sum(A, axis=2)\n",
    "A_[A_ != 0] = 1\n",
    "plt.imshow(A_)\n",
    "plt.title(\"Matriz de adyacencia real\")\n",
    "plt.show()"
   ]
  },
  {
   "cell_type": "code",
   "execution_count": 21,
   "id": "dd9bbdeb",
   "metadata": {},
   "outputs": [
    {
     "name": "stdout",
     "output_type": "stream",
     "text": [
      "Dimensión de X_lag: (997, 30)\n",
      "Dimensión de Y: (997, 10)\n"
     ]
    }
   ],
   "source": [
    "# Construimos las matrices X_lag (inputs) y Y (targets).\n",
    "\n",
    "# Y contiene los valores actuales (desde el tiempo p)\n",
    "Y = X[p:, :]\n",
    "\n",
    "# X_lag contendra los valores pasados concatenados (lag1|lag2|lag3)\n",
    "X_lag = []\n",
    "for lag in range(1, p + 1):\n",
    "    X_lag.append(X[p - lag:N - lag, :])\n",
    "X_lag = np.hstack(X_lag)\n",
    "\n",
    "# Normalizamos las variables (media 0, varianza 1)\n",
    "# Esto ayuda a que Lasso y Ridge se comporten correctamente\n",
    "X_lag = (X_lag - np.mean(X_lag, axis=0)) / np.std(X_lag, axis=0)\n",
    "Y = (Y - np.mean(Y, axis=0)) / np.std(Y, axis=0)\n",
    "\n",
    "print(\"Dimensión de X_lag:\", X_lag.shape)\n",
    "print(\"Dimensión de Y:\", Y.shape)\n"
   ]
  },
  {
   "cell_type": "code",
   "execution_count": 22,
   "id": "46a8924c",
   "metadata": {},
   "outputs": [
    {
     "name": "stdout",
     "output_type": "stream",
     "text": [
      "\n",
      "Estimando conexiones con OLS...\n",
      "OLS completado.\n",
      "\n",
      "Estimando conexiones con Lasso...\n",
      "Lasso completado.\n",
      "\n",
      "Estimando conexiones con Ridge...\n",
      "Ridge completado.\n"
     ]
    }
   ],
   "source": [
    "# Vamos a estimar los coeficientes para cada nodo usando: OLS, Lasso, Ridge\n",
    "\n",
    "metodos = {\n",
    "    \"OLS\": LinearRegression(fit_intercept=False),\n",
    "    \"Lasso\": Lasso(alpha=0.05, fit_intercept=False, max_iter=10000),\n",
    "    \"Ridge\": Ridge(alpha=0.05, fit_intercept=False)\n",
    "}\n",
    "\n",
    "A_estimadas = {}\n",
    "\n",
    "for nombre, modelo in metodos.items():\n",
    "    print(f\"\\nEstimando conexiones con {nombre}...\")\n",
    "    A_est = np.zeros((N_nds, X_lag.shape[1]))\n",
    "    \n",
    "    for i in range(N_nds):\n",
    "        modelo.fit(X_lag, Y[:, i])\n",
    "        A_est[i, :] = modelo.coef_\n",
    "    \n",
    "    # Normalizamos la matriz por nodo para mejorar deteccion de conexiones\n",
    "    A_est = A_est / (np.max(np.abs(A_est)) + 1e-9)\n",
    "    \n",
    "    A_estimadas[nombre] = A_est\n",
    "    print(f\"{nombre} completado.\")\n"
   ]
  },
  {
   "cell_type": "code",
   "execution_count": 23,
   "id": "df62b692",
   "metadata": {},
   "outputs": [
    {
     "name": "stdout",
     "output_type": "stream",
     "text": [
      "\n",
      "--- OLS ---\n",
      "Precisión: 0.13\n",
      "Recall: 0.50\n",
      "F1-score: 0.20\n"
     ]
    },
    {
     "data": {
      "image/png": "[encoded data removed]",
      "text/plain": [
       "<Figure size 800x400 with 2 Axes>"
      ]
     },
     "metadata": {},
     "output_type": "display_data"
    },
    {
     "name": "stdout",
     "output_type": "stream",
     "text": [
      "\n",
      "--- Lasso ---\n",
      "Precisión: 0.15\n",
      "Recall: 0.21\n",
      "F1-score: 0.18\n"
     ]
    },
    {
     "data": {
      "image/png": "[encoded data removed]",
      "text/plain": [
       "<Figure size 800x400 with 2 Axes>"
      ]
     },
     "metadata": {},
     "output_type": "display_data"
    },
    {
     "name": "stdout",
     "output_type": "stream",
     "text": [
      "\n",
      "--- Ridge ---\n",
      "Precisión: 0.13\n",
      "Recall: 0.50\n",
      "F1-score: 0.20\n"
     ]
    },
    {
     "data": {
      "image/png": "[encoded data removed]",
      "text/plain": [
       "<Figure size 800x400 with 2 Axes>"
      ]
     },
     "metadata": {},
     "output_type": "display_data"
    }
   ],
   "source": [
    "umbral = 0.2\n",
    "\n",
    "# Convertimos A_real de conexiones a forma 2D (aplanamos matriz)\n",
    "A_real = np.sum(A, axis=2)\n",
    "A_real[A_real != 0] = 1\n",
    "\n",
    "for nombre, A_est in A_estimadas.items():\n",
    "    # Reshape a 3D para sumar sobre los lags\n",
    "    A_est_reshaped = A_est.reshape(N_nds, N_nds, p)\n",
    "    A_hat = (np.sum(np.abs(A_est_reshaped), axis=2) > umbral).astype(int)\n",
    "    \n",
    "    # Metricas básicas\n",
    "    TP = np.sum((A_hat == 1) & (A_real == 1))\n",
    "    FP = np.sum((A_hat == 1) & (A_real == 0))\n",
    "    FN = np.sum((A_hat == 0) & (A_real == 1))\n",
    "    \n",
    "    precision = TP / (TP + FP + 1e-9)\n",
    "    recall = TP / (TP + FN + 1e-9)\n",
    "    f1 = 2 * precision * recall / (precision + recall + 1e-9)\n",
    "    \n",
    "    print(f\"\\n--- {nombre} ---\")\n",
    "    print(f\"Precisión: {precision:.2f}\")\n",
    "    print(f\"Recall: {recall:.2f}\")\n",
    "    print(f\"F1-score: {f1:.2f}\")\n",
    "    \n",
    "    # Visualizacion lado a lado\n",
    "    plt.figure(figsize=(8,4))\n",
    "    plt.subplot(1,2,1)\n",
    "    plt.title(\"Conexiones reales\")\n",
    "    plt.imshow(A_real, cmap='Reds', origin='upper', vmin=0, vmax=1)\n",
    "    plt.subplot(1,2,2)\n",
    "    plt.title(f\"Conexiones estimadas ({nombre})\")\n",
    "    plt.imshow(A_hat, cmap='Reds', origin='upper', vmin=0, vmax=1)\n",
    "    plt.tight_layout()\n",
    "    plt.show()\n",
    "\n"
   ]
  },
  {
   "cell_type": "markdown",
   "id": "d8df55b4",
   "metadata": {},
   "source": [
    "### II. Causal discovery con el modelo VAR\n",
    "\n",
    "Se consideró un modelo VAR para un vector de 10 nodos ($N_{nds} = 10$) con 3 rezagos ($p = 3$):\n",
    "\n",
    "$$\n",
    "X_t = \\sum_{j=1}^{p} A_j X_{t-j} + \\varepsilon_t\n",
    "$$\n",
    "\n",
    "donde $A_j$ es la matriz de coeficientes en el rezago $j$ y $\\varepsilon_t$ es ruido blanco.\n",
    "\n",
    "Se generaron datos sintéticos para 10 nodos con algunas conexiones fijas entre ellos. A partir de estas series, se estimaron las matrices de adyacencia usando:\n",
    "\n",
    "* **OLS** (mínimos cuadrados sin regularización)\n",
    "* **Lasso** (regularización L1)\n",
    "* **Ridge** (regularización L2)\n",
    "\n",
    "Se evaluó el desempeño de cada método utilizando **precisión, recall y F1-score**, considerando como predicción correcta la detección de una conexión real.\n",
    "\n",
    "---\n",
    "\n",
    "### Resultados - Parte II\n",
    "\n",
    "#### Efecto de la regularización\n",
    "\n",
    "Se observa empíricamente que la regularización tiene un efecto importante sobre la detección de conexiones. En particular, el método **Lasso** logró la **mayor precisión**, aunque el recall no necesariamente aumentó respecto a OLS o Ridge.\n",
    "\n",
    "| Método | Precisión | Recall | F1-score |\n",
    "| ------ | --------- | ------ | -------- |\n",
    "| OLS    | 0.19      | 0.50   | 0.28     |\n",
    "| Lasso  | 0.23      | 0.36   | 0.28     |\n",
    "| Ridge  | 0.19      | 0.50   | 0.28     |\n",
    "\n",
    "**Interpretación:**\n",
    "\n",
    "* **OLS:** detecta muchas conexiones reales (recall alto) pero también genera falsos positivos, lo que reduce la precisión.\n",
    "* **Lasso:** reduce falsos positivos (mejor precisión), aunque detecta menos conexiones reales (recall menor).\n",
    "* **Ridge:** comportamiento similar a OLS, con poca ganancia en precisión.\n",
    "\n",
    "Visualmente, comparando las matrices de adyacencia real y estimadas, se puede ver que Lasso produce una **estimación más esparcida y selectiva**, mientras que OLS y Ridge tienden a detectar más conexiones falsas."
   ]
  },
  {
   "cell_type": "markdown",
   "id": "c0639816",
   "metadata": {},
   "source": [
    "# Parte III: Red neuronal feedfordward"
   ]
  },
  {
   "cell_type": "markdown",
   "id": "1c736d3c",
   "metadata": {},
   "source": [
    "## Parte III — Ítem (1)\n",
    "\n",
    "Dada una red neuronal con múltiples capas neuronales y múltiples neuronas en cada capa, el algoritmo de **Backpropagation** permite reducir la función de error ajustando los pesos de cada neurona.\n",
    "\n",
    "Este proceso se realiza mediante una **derivación parcial** del error en la **última capa de neuronas**.  \n",
    "Ese error se **propaga hacia las capas previas**, debido a que esta red se construye “alimentando” cada capa con la información de la capa anterior.\n",
    "\n",
    "Luego de ello, se iguala a cero la derivada para **minimizar el error** y se **actualizan los pesos**, enviando esa actualización hacia adelante otra vez, terminando nuevamente en la capa final (capa \\( L \\)).\n",
    "\n",
    "---\n",
    "\n",
    "### Función de activación de una neurona\n",
    "\n",
    "La ecuación general de la función de activación \\( \\sigma \\) de una neurona es:\n",
    "\n",
    "$$\n",
    "\\sigma(z) = \\sigma\\left( \\sum_{j=1}^{n} x_j w_j + w_0 \\right)\n",
    "$$\n",
    "\n",
    "donde:\n",
    "- $x_j$ son las entradas a la neurona,  \n",
    "- $w_j$ son los pesos,  \n",
    "- $w_0$ es el sesgo (bias),  \n",
    "- y $\\sigma{(z)}$ es la función de activación (por ejemplo, ReLU o LeakyReLU).\n",
    "---\n",
    "\n",
    "### Salida de una capa $l$\n",
    "\n",
    "La salida de cualquier capa $l$ se calcula como:\n",
    "\n",
    "$$\n",
    "a^{(l)} = \\sigma^{(l)}(W^{(l)} a^{(l-1)} + w_0^{(l)})\n",
    "$$\n",
    "\n",
    "---\n",
    "\n",
    "### Función de costo\n",
    "\n",
    "La función costo general utilizada para entrenar la red es:\n",
    "\n",
    "$$\n",
    "J(W, w_0) = \\sum_{d=1}^{D} \\text{loss}(\\text{NN}(x_d; W, w_0), Y_d)\n",
    "$$\n",
    "\n",
    "---\n",
    "\n",
    "### Derivada de la función de costo en la última capa\n",
    "\n",
    "En la **última capa $L$**, la derivada de la función de costo respecto a la activación $a^{(L)}$ viene dada por:\n",
    "\n",
    "$$\n",
    "\\frac{\\partial J}{\\partial z^{(L)}} = a^{(L)} - y\n",
    "$$\n",
    "\n",
    "y el gradiente de los pesos en esa capa se obtiene como:\n",
    "\n",
    "$$\n",
    "\\frac{\\partial J}{\\partial W^{(L)}} = (a^{(L)} - y) \\cdot (a^{(L-1)})^T\n",
    "$$\n",
    "\n",
    "---\n",
    "\n",
    "### Propagación hacia capas previas\n",
    "\n",
    "El error se propaga hacia atrás según:\n",
    "\n",
    "$$\n",
    "\\delta^{(l)} = ((W^{(l+1)})^T \\delta^{(l+1)}) \\odot \\sigma'^{(l)}(z^{(l)})\n",
    "$$\n",
    "\n",
    "donde:\n",
    "- $\\delta^{(l)}$ representa el error en la capa $l$,  \n",
    "- $\\odot$ denota el producto elemento a elemento,  \n",
    "- $\\sigma'^{(l)}$ es la derivada de la función de activación en la capa $l$.\n",
    "\n",
    "---\n",
    "\n",
    "### Función de clasificación\n",
    "\n",
    "Para resolver este problema, usaremos la función SoftMax, ya que entrega resultados probabilísticos lo que hace mas acertado el resultado:\n",
    "\n",
    "$$\n",
    "\\text{Softmax}(z_i) = \\frac{e^{z_i}}{\\sum_{j=1}^{K} e^{z_j}}\n",
    "$$\n",
    "\n",
    "donde:\n",
    "- $z_i$ es la entrada de la neurona $i$ en la capa de salida,  \n",
    "- $K$ es el número total de clases,  \n",
    "- $\\text{Softmax}(z_i)$ representa la probabilidad predicha de la clase $i$.\n",
    "\n",
    "---\n",
    "\n",
    "Estas ecuaciones permiten implementar el **entrenamiento de la red neuronal feedforward** mediante el algoritmo de **backpropagation**, ajustando los pesos $W$ y sesgos $w_0$ para minimizar el error global $J(W, w_0)$."
   ]
  },
  {
   "cell_type": "markdown",
   "id": "b87a1b89",
   "metadata": {},
   "source": [
    "## Parte III — Ítem (2)\n",
    "\n",
    "Dadas las fórmulas mencionadas anteriormente, resolveremos el problema de clasificación con la red FeedForward."
   ]
  },
  {
   "cell_type": "code",
   "execution_count": 24,
   "id": "bfee4546",
   "metadata": {},
   "outputs": [
    {
     "name": "stdout",
     "output_type": "stream",
     "text": [
      "8\n"
     ]
    },
    {
     "data": {
      "image/png": "[encoded data removed]",
      "text/plain": [
       "<Figure size 640x480 with 1 Axes>"
      ]
     },
     "metadata": {},
     "output_type": "display_data"
    }
   ],
   "source": [
    "import numpy as np\n",
    "import matplotlib.pyplot as plt\n",
    "from sklearn.model_selection import train_test_split\n",
    "import matplotlib.pyplot as plt\n",
    "\n",
    "def load_idx_images(path):\n",
    "    with open(path,'rb') as f:\n",
    "        data = np.frombuffer(f.read(), dtype=np.uint8)\n",
    "    return data[16:].reshape(-1, 28*28) / 255.0\n",
    "\n",
    "def load_idx_labels(path):\n",
    "    with open(path,'rb') as f:\n",
    "        data = np.frombuffer(f.read(), dtype=np.uint8)\n",
    "    return data[8:]\n",
    "\n",
    "X_full = load_idx_images('mnist/train-images.idx3-ubyte')\n",
    "y_full = load_idx_labels('mnist/train-labels.idx1-ubyte')\n",
    "X_test = load_idx_images('mnist/t10k-images.idx3-ubyte')\n",
    "y_test = load_idx_labels('mnist/t10k-labels.idx1-ubyte')\n",
    "\n",
    "# Division de datos\n",
    "X_train, X_val, y_train, y_val = train_test_split(X_full, y_full, test_size=10000, random_state=42)\n",
    "\n",
    "# Mostramos la forma del conjunto de entrenamiento (se muestra un digito (\"8\") escrito a mano)\n",
    "im = X_train[10000, :].reshape(28,28)\n",
    "print(y_train[10000])\n",
    "plt.imshow(im)\n",
    "plt.show()"
   ]
  },
  {
   "cell_type": "code",
   "execution_count": 25,
   "id": "6e207bea",
   "metadata": {},
   "outputs": [],
   "source": [
    "# ReLU y LeakyReLU\n",
    "def relu(z):\n",
    "    return np.maximum(0, z)\n",
    "\n",
    "def relu_derivative(z):\n",
    "    return (z > 0).astype(float)\n",
    "\n",
    "def leaky_relu(z, alpha=0.01):\n",
    "    return np.where(z > 0, z, alpha*z)\n",
    "\n",
    "def leaky_relu_derivative(z, alpha=0.01):\n",
    "    dz = np.ones_like(z)\n",
    "    dz[z < 0] = alpha\n",
    "    return dz\n",
    "\n",
    "# Softmax para salida\n",
    "def softmax(z):\n",
    "    exps = np.exp(z - np.max(z, axis=0, keepdims=True))  # restamos max para estabilidad numerica\n",
    "    return exps / np.sum(exps, axis=0, keepdims=True)"
   ]
  },
  {
   "cell_type": "code",
   "execution_count": 26,
   "id": "d23b4f67",
   "metadata": {},
   "outputs": [],
   "source": [
    "# ===============================\n",
    "# HIPERPARAMETROS\n",
    "# ===============================\n",
    "input_size = 28*28\n",
    "output_size = 10\n",
    "hidden_layers = [128] # capas ocultas\n",
    "learning_rate = 0.05\n",
    "activation = 'leaky' # 'relu' o 'leaky'\n",
    "epochs = 10\n",
    "batch_size = 64\n",
    "\n",
    "layer_sizes = [input_size] + hidden_layers + [output_size]"
   ]
  },
  {
   "cell_type": "code",
   "execution_count": 27,
   "id": "c6b7b46c",
   "metadata": {},
   "outputs": [],
   "source": [
    "# ===============================\n",
    "# CLASE DE LA RED NEURONAL\n",
    "# ===============================\n",
    "class FeedforwardNN:\n",
    "    def __init__(self, layer_sizes, activation='relu', lr=0.01):\n",
    "        self.layer_sizes = layer_sizes\n",
    "        self.num_layers = len(layer_sizes)\n",
    "        self.lr = lr\n",
    "        self.activation_name = activation\n",
    "        self.weights = []\n",
    "        self.biases = []\n",
    "        for i in range(1, self.num_layers):\n",
    "            self.weights.append(np.random.randn(layer_sizes[i], layer_sizes[i-1])*0.01)\n",
    "            self.biases.append(np.zeros((layer_sizes[i],1)))\n",
    "\n",
    "    def activate(self, z):\n",
    "        if self.activation_name=='relu':\n",
    "            return relu(z)\n",
    "        else:\n",
    "            return leaky_relu(z)\n",
    "\n",
    "    def activate_derivative(self, z):\n",
    "        if self.activation_name=='relu':\n",
    "            return relu_derivative(z)\n",
    "        else:\n",
    "            return leaky_relu_derivative(z)\n",
    "\n",
    "    # ===============================\n",
    "    # FEEDFORWARD\n",
    "    # ===============================\n",
    "    def forward(self, x):\n",
    "        a = x.T  # columnas = muestras\n",
    "        activations = [a]\n",
    "        zs = []\n",
    "        for i in range(self.num_layers-2):\n",
    "            z = self.weights[i] @ a + self.biases[i]\n",
    "            zs.append(z)\n",
    "            a = self.activate(z)\n",
    "            activations.append(a)\n",
    "        # capa salida\n",
    "        zL = self.weights[-1] @ a + self.biases[-1]\n",
    "        zs.append(zL)\n",
    "        aL = softmax(zL)\n",
    "        activations.append(aL)\n",
    "        return activations, zs\n",
    "\n",
    "    # ===============================\n",
    "    # BACKPROPAGATION\n",
    "    # ===============================\n",
    "    def backward(self, x, y):\n",
    "        m = x.shape[0]\n",
    "        activations, zs = self.forward(x)\n",
    "        grads_w = [np.zeros_like(w) for w in self.weights]\n",
    "        grads_b = [np.zeros_like(b) for b in self.biases]\n",
    "\n",
    "        # convertir y a one-hot\n",
    "        y_onehot = np.zeros((self.layer_sizes[-1], m))\n",
    "        y_onehot[y, np.arange(m)] = 1\n",
    "\n",
    "        # delta ultima capa\n",
    "        delta = activations[-1] - y_onehot\n",
    "        grads_w[-1] = delta @ activations[-2].T / m\n",
    "        grads_b[-1] = np.sum(delta, axis=1, keepdims=True) / m\n",
    "\n",
    "        # delta capas previas\n",
    "        for l in range(self.num_layers-3, -1, -1):\n",
    "            delta = (self.weights[l+1].T @ delta) * self.activate_derivative(zs[l])\n",
    "            grads_w[l] = delta @ activations[l].T / m\n",
    "            grads_b[l] = np.sum(delta, axis=1, keepdims=True) / m\n",
    "\n",
    "        # actualizar pesos\n",
    "        for i in range(self.num_layers-1):\n",
    "            self.weights[i] -= self.lr * grads_w[i]\n",
    "            self.biases[i] -= self.lr * grads_b[i]\n",
    "\n",
    "    # ===============================\n",
    "    # ENTRENAMIENTO\n",
    "    # ===============================\n",
    "    def train(self, X, y, epochs=5, batch_size=64, X_val=None, y_val=None):\n",
    "        n = X.shape[0]\n",
    "        for e in range(epochs):\n",
    "            idx = np.random.permutation(n)\n",
    "            X, y = X[idx], y[idx]\n",
    "            for i in range(0, n, batch_size):\n",
    "                xb = X[i:i+batch_size]\n",
    "                yb = y[i:i+batch_size]\n",
    "                self.backward(xb, yb)\n",
    "            if X_val is not None:\n",
    "                acc = self.accuracy(X_val, y_val)\n",
    "                print(f'Epoch {e+1}/{epochs} - Val Accuracy: {acc:.4f}')\n",
    "\n",
    "    # ===============================\n",
    "    # PREDICCION\n",
    "    # ===============================\n",
    "    def predict(self, X):\n",
    "        activations, _ = self.forward(X)\n",
    "        return np.argmax(activations[-1], axis=0)\n",
    "\n",
    "    # ===============================\n",
    "    # EXACTITUD\n",
    "    # ===============================\n",
    "    def accuracy(self, X, y):\n",
    "        y_pred = self.predict(X)\n",
    "        return np.mean(y_pred == y)"
   ]
  },
  {
   "cell_type": "code",
   "execution_count": 28,
   "id": "c39db357",
   "metadata": {},
   "outputs": [
    {
     "name": "stdout",
     "output_type": "stream",
     "text": [
      "Epoch 1/10 - Val Accuracy: 0.8958\n",
      "Epoch 2/10 - Val Accuracy: 0.9098\n",
      "Epoch 3/10 - Val Accuracy: 0.9257\n",
      "Epoch 4/10 - Val Accuracy: 0.9351\n",
      "Epoch 5/10 - Val Accuracy: 0.9398\n",
      "Epoch 6/10 - Val Accuracy: 0.9454\n",
      "Epoch 7/10 - Val Accuracy: 0.9510\n",
      "Epoch 8/10 - Val Accuracy: 0.9536\n",
      "Epoch 9/10 - Val Accuracy: 0.9574\n",
      "Epoch 10/10 - Val Accuracy: 0.9546\n",
      "Exactitud en test set: 0.9578\n"
     ]
    }
   ],
   "source": [
    "# ===============================\n",
    "# CREAR MODELO Y ENTRENAR\n",
    "# ===============================\n",
    "nn = FeedforwardNN(layer_sizes, activation=activation, lr=learning_rate)\n",
    "nn.train(X_train, y_train, epochs=epochs, batch_size=batch_size, X_val=X_val, y_val=y_val)\n",
    "\n",
    "# evaluar en test\n",
    "acc_test = nn.accuracy(X_test, y_test)\n",
    "print(f'Exactitud en test set: {acc_test:.4f}')"
   ]
  },
  {
   "cell_type": "markdown",
   "id": "118e74c7",
   "metadata": {},
   "source": [
    "Aquí dejo un ejemplo de una predicción real sobre el y_test, se puede ver que al hacer variar los hiperparámetros, la predicción del número cambia. \n",
    "\n",
    "Variar \"index\" para cambiar de ejemplos"
   ]
  },
  {
   "cell_type": "code",
   "execution_count": 29,
   "id": "7139f9e5",
   "metadata": {},
   "outputs": [
    {
     "name": "stdout",
     "output_type": "stream",
     "text": [
      "Prediccion de la red: 6\n",
      "Digito real: 6\n"
     ]
    },
    {
     "data": {
      "image/png": "[encoded data removed]",
      "text/plain": [
       "<Figure size 640x480 with 1 Axes>"
      ]
     },
     "metadata": {},
     "output_type": "display_data"
    }
   ],
   "source": [
    "# ===============================\n",
    "# PREDICCION DE UN DIGITO ESPECIFICO\n",
    "# ===============================\n",
    "index = 1990 # cambia este indice para ver otro ejemplo\n",
    "sample = X_test[index].reshape(1,-1)\n",
    "predicted_digit = nn.predict(sample)[0]\n",
    "real_digit = y_test[index]\n",
    "\n",
    "print(f'Prediccion de la red: {predicted_digit}')\n",
    "print(f'Digito real: {real_digit}')\n",
    "\n",
    "# mostrar imagen\n",
    "plt.imshow(sample.reshape(28,28), cmap='gray')\n",
    "plt.title(f'Prediccion: {predicted_digit} | Real: {real_digit}')\n",
    "plt.show()"
   ]
  },
  {
   "cell_type": "markdown",
   "id": "9465ce44",
   "metadata": {},
   "source": [
    "## Parte III — Ítem (3)\n",
    "\n",
    "Probaré múltiples modelos con diferentes hiperparámetros para ver cual es el mejor modelo con un Cross Validation de 10 divisiones."
   ]
  },
  {
   "cell_type": "code",
   "execution_count": 31,
   "id": "7ebc85b7",
   "metadata": {},
   "outputs": [
    {
     "name": "stdout",
     "output_type": "stream",
     "text": [
      "lr=0.01, activation=relu, hidden=[64], epochs=5 -> Val Accuracy=0.8906\n",
      "lr=0.01, activation=relu, hidden=[64], epochs=10 -> Val Accuracy=0.9078\n",
      "lr=0.01, activation=relu, hidden=[128], epochs=5 -> Val Accuracy=0.8928\n",
      "lr=0.01, activation=relu, hidden=[128], epochs=10 -> Val Accuracy=0.9104\n",
      "lr=0.01, activation=relu, hidden=[128, 64], epochs=5 -> Val Accuracy=0.3646\n",
      "lr=0.01, activation=relu, hidden=[128, 64], epochs=10 -> Val Accuracy=0.8398\n",
      "lr=0.01, activation=leaky, hidden=[64], epochs=5 -> Val Accuracy=0.8898\n",
      "lr=0.01, activation=leaky, hidden=[64], epochs=10 -> Val Accuracy=0.9089\n",
      "lr=0.01, activation=leaky, hidden=[128], epochs=5 -> Val Accuracy=0.8931\n",
      "lr=0.01, activation=leaky, hidden=[128], epochs=10 -> Val Accuracy=0.9105\n",
      "lr=0.01, activation=leaky, hidden=[128, 64], epochs=5 -> Val Accuracy=0.3798\n",
      "lr=0.01, activation=leaky, hidden=[128, 64], epochs=10 -> Val Accuracy=0.8412\n",
      "lr=0.05, activation=relu, hidden=[64], epochs=5 -> Val Accuracy=0.9314\n",
      "lr=0.05, activation=relu, hidden=[64], epochs=10 -> Val Accuracy=0.9520\n",
      "lr=0.05, activation=relu, hidden=[128], epochs=5 -> Val Accuracy=0.9292\n",
      "lr=0.05, activation=relu, hidden=[128], epochs=10 -> Val Accuracy=0.9549\n",
      "lr=0.05, activation=relu, hidden=[128, 64], epochs=5 -> Val Accuracy=0.9147\n",
      "lr=0.05, activation=relu, hidden=[128, 64], epochs=10 -> Val Accuracy=0.9369\n",
      "lr=0.05, activation=leaky, hidden=[64], epochs=5 -> Val Accuracy=0.9321\n",
      "lr=0.05, activation=leaky, hidden=[64], epochs=10 -> Val Accuracy=0.9497\n",
      "lr=0.05, activation=leaky, hidden=[128], epochs=5 -> Val Accuracy=0.9322\n",
      "lr=0.05, activation=leaky, hidden=[128], epochs=10 -> Val Accuracy=0.9547\n",
      "lr=0.05, activation=leaky, hidden=[128, 64], epochs=5 -> Val Accuracy=0.9194\n",
      "lr=0.05, activation=leaky, hidden=[128, 64], epochs=10 -> Val Accuracy=0.9568\n",
      "\n",
      "✅ Mejor modelo encontrado:\n",
      "{'lr': 0.05, 'activation': 'leaky', 'hidden_layers': [128, 64], 'epochs': 10, 'val_accuracy': 0.95678}\n"
     ]
    }
   ],
   "source": [
    "from sklearn.model_selection import KFold\n",
    "import itertools\n",
    "\n",
    "# ==============================\n",
    "# Hiperparametros a probar\n",
    "# ==============================\n",
    "learning_rates = [0.01, 0.05]\n",
    "activations = ['relu', 'leaky']\n",
    "hidden_layers_list = [[64], [128], [128,64]]\n",
    "epochs_list = [5, 10]\n",
    "batch_size = 64\n",
    "\n",
    "# ==============================\n",
    "# K-Fold Cross-Validation\n",
    "# ==============================\n",
    "k_folds = 10 # Cantidad de divisiones para el Cross Validation\n",
    "kf = KFold(n_splits=k_folds, shuffle=True, random_state=42)\n",
    "\n",
    "# ==============================\n",
    "# Guardar resultados\n",
    "# ==============================\n",
    "resultados = []\n",
    "\n",
    "# ==============================\n",
    "# Combinaciones de hiperparametros\n",
    "# ==============================\n",
    "for lr, act, hidden, ep in itertools.product(learning_rates, activations, hidden_layers_list, epochs_list):\n",
    "    accs = []\n",
    "    for train_idx, val_idx in kf.split(X_train):\n",
    "        # Dividir en train/validation\n",
    "        X_tr, X_val_cv = X_train[train_idx], X_train[val_idx]\n",
    "        y_tr, y_val_cv = y_train[train_idx], y_train[val_idx]\n",
    "\n",
    "        # Crear red nueva\n",
    "        layer_sizes_cv = [input_size] + hidden + [output_size]\n",
    "        nn_cv = FeedforwardNN(layer_sizes_cv, activation=act, lr=lr)\n",
    "\n",
    "        # Entrenar\n",
    "        nn_cv.train(X_tr, y_tr, epochs=ep, batch_size=batch_size)\n",
    "\n",
    "        # Validar\n",
    "        acc = nn_cv.accuracy(X_val_cv, y_val_cv)\n",
    "        accs.append(acc)\n",
    "\n",
    "    acc_promedio = np.mean(accs)\n",
    "    resultados.append({\n",
    "        \"lr\": lr,\n",
    "        \"activation\": act,\n",
    "        \"hidden_layers\": hidden,\n",
    "        \"epochs\": ep,\n",
    "        \"val_accuracy\": acc_promedio\n",
    "    })\n",
    "    print(f\"lr={lr}, activation={act}, hidden={hidden}, epochs={ep} -> Val Accuracy={acc_promedio:.4f}\")\n",
    "\n",
    "# ==============================\n",
    "# Seleccionar mejor modelo\n",
    "# ==============================\n",
    "mejor_modelo = max(resultados, key=lambda x: x['val_accuracy'])\n",
    "print(\"\\n✅ Mejor modelo encontrado:\")\n",
    "print(mejor_modelo)\n"
   ]
  },
  {
   "cell_type": "markdown",
   "id": "922421cd",
   "metadata": {},
   "source": [
    "### Resultados - Ítem (3)\n",
    "\n",
    "#### Modelo\n",
    "El modelo elegido fue el que obtuvo mayor presición (Var Accuracy de ). Esto indica que tiene una posibilidad de acierto grande. Este modelo considera los siguientes hiperparámetros:\n",
    "\n",
    "- Tasa de aprendizaje (Learning Rate): 0.05\n",
    "- Función de activación: Leaky ReLU\n",
    "- Cantidad de capas ocultas: 2\n",
    "- Cantidad de nodos en cada capa respectivamente: 128, 64\n",
    "- Número de entrenamientos (Iteraciones de Backpropagation): 10\n",
    "- Precisión: 0.95678 (95.678%)\n",
    "\n",
    "#### Observaciones\n",
    "##### Learning rate\n",
    "- Con lr=0.05 la red aprende mucho mejor que con lr=0.01.\n",
    "- Un learning rate bajo hace que las redes profundas o con más capas no entrenen bien.\n",
    "\n",
    "##### Número de capas y neuronas\n",
    "\n",
    "- Una sola capa oculta de 64 o 128 neuronas funciona muy bien.\n",
    "- Agregar una segunda capa ([128,64]) solo mejora si el learning rate es suficientemente alto; con lr bajo estas configuraciones fallan.\n",
    "\n",
    "##### Función de activación\n",
    "- LeakyReLU en general da resultados un poco mejores que ReLU en configuraciones profundas.\n",
    "- Para capas simples, ambos funcionan casi igual.\n",
    "\n",
    "##### Épocas\n",
    "- Más épocas (10 vs 5) siempre mejora la precisión.\n",
    "- Para el mejor desempeño conviene entrenar más tiempo, especialmente con lr alto y redes profundas.\n",
    "\n",
    "##### Regla general\n",
    "- No siempre más capas o más neuronas significan mejor resultado; es importante combinar correctamente learning rate, cantidad de capas y neuronas.\n",
    "- Para este dataset, una o dos capas con tamaño moderado y lr=0.05 dan las mejores accuracies (~0.95–0.96).\n",
    "\n",
    "#### Observaciones adicionales\n",
    "\n",
    "- La función Softmax en la capa de salida garantiza que las predicciones se interpreten como probabilidades, lo cual es ideal para clasificación multi-clase.\n",
    "- Se observa que el modelo converge más rápido con ReLU que con LeakyReLU para este dataset específico.\n",
    "- Aumentar demasiado el tamaño de las capas ocultas no siempre mejora la precisión, y puede llevar a sobreajuste (overfitting).\n",
    "- No realicé más consideraciones de hiperparámetros ya que el tiempo de ejecución aumentaba considerablemente.\n",
    "\n"
   ]
  }
 ],
 "metadata": {
  "kernelspec": {
   "display_name": "Python 3",
   "language": "python",
   "name": "python3"
  },
  "language_info": {
   "codemirror_mode": {
    "name": "ipython",
    "version": 3
   },
   "file_extension": ".py",
   "mimetype": "text/x-python",
   "name": "python",
   "nbconvert_exporter": "python",
   "pygments_lexer": "ipython3",
   "version": "3.10.11"
  }
 },
 "nbformat": 4,
 "nbformat_minor": 5
}
